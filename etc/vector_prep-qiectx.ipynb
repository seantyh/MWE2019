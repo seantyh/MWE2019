{
 "cells": [
  {
   "cell_type": "code",
   "execution_count": 5,
   "metadata": {},
   "outputs": [],
   "source": [
    "%load_ext autoreload\n",
    "%autoreload 2\n",
    "%matplotlib inline\n",
    "import sys\n",
    "sys.path.append(\"../\")"
   ]
  },
  {
   "cell_type": "code",
   "execution_count": 6,
   "metadata": {},
   "outputs": [
    {
     "name": "stdout",
     "output_type": "stream",
     "text": [
      "Better speed can be achieved with apex installed from https://www.github.com/nvidia/apex.\n"
     ]
    }
   ],
   "source": [
    "import pickle\n",
    "from functools import partial, reduce\n",
    "from itertools import chain, tee, islice\n",
    "import numpy as np\n",
    "import pandas as pd\n",
    "from tqdm import tqdm_notebook as tqdm\n",
    "from flair.embeddings import BertEmbeddings, Sentence"
   ]
  },
  {
   "cell_type": "code",
   "execution_count": 7,
   "metadata": {},
   "outputs": [],
   "source": [
    "import local_config\n",
    "from MWE2019.materials import NGram4List, MoeIdioms\n",
    "from MWE2019.corpus import CorpusFactory\n",
    "from MWE2019.corpus_index import CorpusIndex\n",
    "from MWE2019.cwn_node_vec import CwnNodeVec\n",
    "from MWE2019.utils import get_cache_path, install_data_cache"
   ]
  },
  {
   "cell_type": "code",
   "execution_count": 8,
   "metadata": {},
   "outputs": [],
   "source": [
    "bert = BertEmbeddings('bert-base-chinese', layers='-1,-2,-3,-4', pooling_operation='mean')"
   ]
  },
  {
   "cell_type": "markdown",
   "metadata": {},
   "source": [
    "## Build QIE vectors"
   ]
  },
  {
   "cell_type": "code",
   "execution_count": 10,
   "metadata": {},
   "outputs": [],
   "source": [
    "# qie_contexts = {\"一丘之貉\" : [\"他們兩個不過就是一丘之貉，兩個人都一樣\", \"兩人臭味相投，一丘之貉\"]}"
   ]
  },
  {
   "cell_type": "code",
   "execution_count": null,
   "metadata": {},
   "outputs": [],
   "source": [
    "qie_context_path = get_cache_path(\"qie_list\", \"qie_context.pkl\")\n",
    "with open(qie_context_path, \"rb\") as fin:\n",
    "    qie_contexts = pickle.load(fin)"
   ]
  },
  {
   "cell_type": "code",
   "execution_count": 13,
   "metadata": {},
   "outputs": [],
   "source": [
    "def build_qie_vector(ng, ctx_list):\n",
    "    ctx_sents = [x.replace(ng, f\" {ng} \") for x in ctx_list]\n",
    "    sents = [Sentence(x) for x in ctx_sents]\n",
    "    \n",
    "    embeds = []\n",
    "    for sent_x in sents:\n",
    "        bert.embed(sent_x)\n",
    "        embeds.append(sent_x[1].embedding.numpy())\n",
    "\n",
    "    embed_vec = np.vstack(embeds).mean(0)\n",
    "    return embed_vec\n",
    "\n",
    "qie_vectors = {}\n",
    "for ng, ctx_list in qie_contexts.items():\n",
    "    try:\n",
    "        embed_vec = build_qie_vector(ng, ctx_list)\n",
    "        qie_vectors[ng] = embed_vec\n",
    "    except Exception as ex:\n",
    "        print(ex)"
   ]
  },
  {
   "cell_type": "code",
   "execution_count": 14,
   "metadata": {},
   "outputs": [],
   "source": [
    "install_data_cache(\"sense_vectors\")\n",
    "qie_vectors_path = get_cache_path(\"sense_vectors\", \"qie_vectors.pkl\")\n",
    "with open(qie_vectors_path, \"wb\") as fout:\n",
    "    pickle.dump(qie_vectors, fout)"
   ]
  },
  {
   "cell_type": "code",
   "execution_count": null,
   "metadata": {},
   "outputs": [],
   "source": []
  }
 ],
 "metadata": {
  "kernelspec": {
   "display_name": "Python 3",
   "language": "python",
   "name": "python3"
  },
  "language_info": {
   "codemirror_mode": {
    "name": "ipython",
    "version": 3
   },
   "file_extension": ".py",
   "mimetype": "text/x-python",
   "name": "python",
   "nbconvert_exporter": "python",
   "pygments_lexer": "ipython3",
   "version": "3.7.2"
  }
 },
 "nbformat": 4,
 "nbformat_minor": 2
}
