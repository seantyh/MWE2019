{
 "cells": [
  {
   "cell_type": "code",
   "execution_count": 1,
   "metadata": {},
   "outputs": [],
   "source": [
    "%load_ext autoreload\n",
    "%autoreload 2\n",
    "%matplotlib inline\n",
    "import sys\n",
    "sys.path.append(\"../\")"
   ]
  },
  {
   "cell_type": "code",
   "execution_count": 2,
   "metadata": {},
   "outputs": [
    {
     "name": "stdout",
     "output_type": "stream",
     "text": [
      "Better speed can be achieved with apex installed from https://www.github.com/nvidia/apex.\n"
     ]
    }
   ],
   "source": [
    "import pickle\n",
    "from functools import partial, reduce\n",
    "from itertools import chain, tee, islice\n",
    "import numpy as np\n",
    "import pandas as pd\n",
    "from tqdm import tqdm_notebook as tqdm\n",
    "from flair.embeddings import BertEmbeddings, Sentence"
   ]
  },
  {
   "cell_type": "code",
   "execution_count": 3,
   "metadata": {},
   "outputs": [],
   "source": [
    "import local_config\n",
    "from MWE2019.corpus import CorpusFactory\n",
    "from MWE2019.corpus_index import CorpusIndex\n",
    "from MWE2019.cwn_node_vec import CwnNodeVec\n",
    "from MWE2019.utils import get_cache_path, install_data_cache"
   ]
  },
  {
   "cell_type": "code",
   "execution_count": 4,
   "metadata": {},
   "outputs": [],
   "source": [
    "bert = BertEmbeddings('bert-base-chinese', layers='-1,-2,-3,-4', pooling_operation='mean')"
   ]
  },
  {
   "cell_type": "code",
   "execution_count": 5,
   "metadata": {},
   "outputs": [
    {
     "name": "stdout",
     "output_type": "stream",
     "text": [
      "load CwnNodeVec from cache:  ../MWE2019/../data/cache_cwn_node_vec/cwn_node_vec_structeq.pkl\n"
     ]
    }
   ],
   "source": [
    "nv_eq = CwnNodeVec(name='structeq', dimensions=100, walk_length=10, num_walks=20, p=0.5, q=2)"
   ]
  },
  {
   "cell_type": "code",
   "execution_count": 6,
   "metadata": {},
   "outputs": [
    {
     "data": {
      "text/plain": [
       "3831"
      ]
     },
     "execution_count": 6,
     "metadata": {},
     "output_type": "execute_result"
    }
   ],
   "source": [
    "len([x for x in nv_eq.stoi.keys() if len(x) == 1])"
   ]
  },
  {
   "cell_type": "code",
   "execution_count": 7,
   "metadata": {},
   "outputs": [],
   "source": [
    "cwn_chars = [x for x in nv_eq.stoi.keys() if len(x) == 1]"
   ]
  },
  {
   "cell_type": "markdown",
   "metadata": {},
   "source": [
    "## Build character sense vectors"
   ]
  },
  {
   "cell_type": "code",
   "execution_count": 8,
   "metadata": {},
   "outputs": [],
   "source": [
    "sys.path.append(\"../../GWA2019\")\n",
    "from GWA2019 import cwn_sense_utils as utils\n",
    "with open(\"../resources/sense_embed.pkl\", \"rb\") as fin:\n",
    "    sense_embed = pickle.load(fin)"
   ]
  },
  {
   "cell_type": "code",
   "execution_count": 9,
   "metadata": {},
   "outputs": [
    {
     "data": {
      "text/plain": [
       "'03000401'"
      ]
     },
     "execution_count": 9,
     "metadata": {},
     "output_type": "execute_result"
    }
   ],
   "source": [
    "next(iter(sense_embed.keys()))"
   ]
  },
  {
   "cell_type": "code",
   "execution_count": 10,
   "metadata": {},
   "outputs": [],
   "source": [
    "from CwnGraph import CwnBase"
   ]
  },
  {
   "cell_type": "code",
   "execution_count": 11,
   "metadata": {},
   "outputs": [],
   "source": [
    "cwn = CwnBase()"
   ]
  },
  {
   "cell_type": "code",
   "execution_count": 12,
   "metadata": {},
   "outputs": [],
   "source": [
    "from GWA2019.cwn_sense_utils import find_examples, compute_sense_embedding"
   ]
  },
  {
   "cell_type": "code",
   "execution_count": 13,
   "metadata": {},
   "outputs": [
    {
     "data": {
      "text/plain": [
       "True"
      ]
     },
     "execution_count": 13,
     "metadata": {},
     "output_type": "execute_result"
    }
   ],
   "source": [
    "import torch\n",
    "torch.cuda.is_available()"
   ]
  },
  {
   "cell_type": "code",
   "execution_count": 14,
   "metadata": {},
   "outputs": [],
   "source": [
    "charac_sense_vectors = {}"
   ]
  },
  {
   "cell_type": "code",
   "execution_count": 15,
   "metadata": {},
   "outputs": [],
   "source": [
    "def get_sense_vector_from_cache(sense_ids, sense_cache):\n",
    "    sense_map = {}\n",
    "    for sense_id_x in sense_ids:\n",
    "        emb = sense_cache[sense_id_x][sense_id_x].embeddings\n",
    "        sense_map[sense_id_x] = emb.mean(0)\n",
    "    return sense_map\n",
    "\n",
    "def get_char_sense_vectors(charac, cwn_inst, bert_inst, sense_cache):\n",
    "    lemmas = cwn.find_lemma(f'^{ch}$')\n",
    "    senses = chain.from_iterable(x.senses for x in lemmas)\n",
    "    sense_ids = [x.id for x in senses]\n",
    "    has_cache = all([sid_x in sense_cache for sid_x in sense_ids])\n",
    "    \n",
    "    if has_cache:\n",
    "        sense_map = get_sense_vector_from_cache(sense_ids, sense_cache)\n",
    "    else:\n",
    "        sense_ids, sense_emb = compute_sense_embedding(charac, cwn_inst, bert_inst)\n",
    "        sense_map = dict(zip(sense_ids, sense_emb))\n",
    "    return sense_map\n"
   ]
  },
  {
   "cell_type": "code",
   "execution_count": 21,
   "metadata": {},
   "outputs": [
    {
     "data": {
      "application/vnd.jupyter.widget-view+json": {
       "model_id": "b25b66a8d7a14ecdacd647587c99d194",
       "version_major": 2,
       "version_minor": 0
      },
      "text/plain": [
       "HBox(children=(IntProgress(value=0, max=3831), HTML(value='')))"
      ]
     },
     "metadata": {},
     "output_type": "display_data"
    },
    {
     "name": "stdout",
     "output_type": "stream",
     "text": [
      "No valid embeddings from examples\n",
      "expected a non-empty list of Tensors\n",
      "WARNING: target not found in,  她俯下身來，見狼皮的肚腹處有個＜刃＞孔。\n",
      "WARNING: cannot locate target locations:  她俯下身來，見狼皮的肚腹處有個＜刃＞孔。\n",
      "WARNING: target not found in,  林葉斬碎而紛飛，蔓藤糾葛在兩＜刃＞之間。\n",
      "WARNING: cannot locate target locations:  林葉斬碎而紛飛，蔓藤糾葛在兩＜刃＞之間。\n",
      "No valid embeddings from examples\n",
      "expected a non-empty list of Tensors\n",
      "WARNING: target not found in,  這段詩取於《四首四重奏》的第一首詩或第一重奏《燒毀了的諾頓》的第一節：《四首四重奏》主要反映艾略特的宗教歷史觀。\n",
      "WARNING: cannot locate target locations:  這段詩取於《四首四重奏》的第一首詩或第一重奏《燒毀了的諾頓》的第一節：《四首四重奏》主要反映艾略特的宗教歷史觀。\n",
      "WARNING: target not found in,  我們社團的申請書終於被批了「可」，真是謝天謝地！\n",
      "WARNING: cannot locate target locations:  我們社團的申請書終於被批了「可」，真是謝天謝地！\n",
      "WARNING: target not found in,  爸爸是個嚴肅的人，常常回應我的要求，都只有一個字：「可」。\n",
      "WARNING: cannot locate target locations:  爸爸是個嚴肅的人，常常回應我的要求，都只有一個字：「可」。\n",
      "WARNING: target not found in,  我問爸爸能不能跟同學出去玩，爸爸頭也不抬的回了一句：「可」。\n",
      "WARNING: cannot locate target locations:  我問爸爸能不能跟同學出去玩，爸爸頭也不抬的回了一句：「可」。\n",
      "No valid embeddings from examples\n",
      "WARNING: target not found in,  對岸關渡平原彼端，高聳山脈插天與白雲綿延偕行。「那是大屯山<呵\n",
      ">，」身旁有人說。\n",
      "WARNING: cannot locate target locations:  對岸關渡平原彼端，高聳山脈插天與白雲綿延偕行。「那是大屯山<呵\n",
      ">，」身旁有人說。\n",
      "WARNING: target not found in,  艷麗又易栽培的球根花卉，近年來逐漸受喜愛，且今年的價格也較往年便宜，此時正是選購的好時機哦！\n",
      "WARNING: cannot locate target locations:  艷麗又易栽培的球根花卉，近年來逐漸受喜愛，且今年的價格也較往年便宜，此時正是選購的好時機哦！\n",
      "No valid embeddings from examples\n",
      "WARNING: target not found in,  對付那些瀏覽色情網址的人，政府會施以罰款\n",
      "WARNING: cannot locate target locations:  對付那些瀏覽色情網址的人，政府會施以罰款\n",
      "expected a non-empty list of Tensors\n",
      "expected a non-empty list of Tensors\n",
      "expected a non-empty list of Tensors\n",
      "expected a non-empty list of Tensors\n",
      "WARNING: target not found in,  今年真的很屎運呀！當天回信告知一些聯絡資料後，隔天就馬上收到衣服，還真快速！\n",
      "WARNING: cannot locate target locations:  今年真的很屎運呀！當天回信告知一些聯絡資料後，隔天就馬上收到衣服，還真快速！\n",
      "No valid embeddings from examples\n",
      "expected a non-empty list of Tensors\n",
      "expected a non-empty list of Tensors\n",
      "expected a non-empty list of Tensors\n",
      "WARNING: target not found in,  最後一次大規模的移民是在南鄭滅亡，康熙中葉以後(禁海令自施琅死後約束力漸弛)。\n",
      "WARNING: cannot locate target locations:  最後一次大規模的移民是在南鄭滅亡，康熙中葉以後(禁海令自施琅死後約束力漸弛)。\n",
      "WARNING: target not found in,  我姓＜張＞，那個人姓甚麼？\n",
      "WARNING: cannot locate target locations:  我姓＜張＞，那個人姓甚麼？\n",
      "WARNING: target not found in,  跟她面談的是一位＜張＞經理。\n",
      "WARNING: cannot locate target locations:  跟她面談的是一位＜張＞經理。\n",
      "WARNING: target not found in,  有意者請至秘書組3111室＜張＞先生處參閱有關資料。\n",
      "WARNING: cannot locate target locations:  有意者請至秘書組3111室＜張＞先生處參閱有關資料。\n",
      "No valid embeddings from examples\n",
      "expected a non-empty list of Tensors\n",
      "WARNING: target not found in,  他信裡最後是這麼說的，原妙就強調以上所說的話，是詣實，就是都打至肺腑中而出，就是沒有一點點虛假的。\n",
      "WARNING: cannot locate target locations:  他信裡最後是這麼說的，原妙就強調以上所說的話，是詣實，就是都打至肺腑中而出，就是沒有一點點虛假的。\n",
      "WARNING: target not found in,  愛不需要可憐，更不需要披著謊言來繼續。\n",
      "WARNING: cannot locate target locations:  愛不需要可憐，更不需要披著謊言來繼續。\n",
      "WARNING: target not found in,  昨晚，我撞見裴摟著一名女子的腰際，他似乎對當下的氣氛感到錯愕。\n",
      "WARNING: cannot locate target locations:  昨晚，我撞見裴摟著一名女子的腰際，他似乎對當下的氣氛感到錯愕。\n",
      "No valid embeddings from examples\n",
      "expected a non-empty list of Tensors\n",
      "WARNING: target not found in,  站在遠處，只見鋪著青瓦的橋頂，飛簷重重，猶如一列橫溪而過的火車。\n",
      "WARNING: cannot locate target locations:  站在遠處，只見鋪著青瓦的橋頂，飛簷重重，猶如一列橫溪而過的火車。\n",
      "WARNING: target not found in,  侈之所生，生于＜毋＞度。\n",
      "WARNING: cannot locate target locations:  侈之所生，生于＜毋＞度。\n",
      "WARNING: target not found in,  孔子說：「＜毋＞意，＜毋＞必，＜毋＞固，＜毋＞我。」意思是一個有道的君子，不會預設立場，不會臆斷，不會固執己見，不會只有自己。\n",
      "WARNING: cannot locate target locations:  孔子說：「＜毋＞意，＜毋＞必，＜毋＞固，＜毋＞我。」意思是一個有道的君子，不會預設立場，不會臆斷，不會固執己見，不會只有自己。\n",
      "No valid embeddings from examples\n",
      "expected a non-empty list of Tensors\n",
      "WARNING: target not found in,  小曹在九局上半登板擔任終結者，被打出三支安打,還挨了一記兩分炮，共失二分。\n",
      "WARNING: cannot locate target locations:  小曹在九局上半登板擔任終結者，被打出三支安打,還挨了一記兩分炮，共失二分。\n",
      "WARNING: target not found in,  八＜爪＞烏賊其實不是魚，是一種軟體動物。\n",
      "WARNING: cannot locate target locations:  八＜爪＞烏賊其實不是魚，是一種軟體動物。\n",
      "WARNING: target not found in,  多數媽媽每天要在孩子、公婆、家庭與工作之間周旋，手忙腳亂像「八＜爪＞章魚」。\n",
      "WARNING: cannot locate target locations:  多數媽媽每天要在孩子、公婆、家庭與工作之間周旋，手忙腳亂像「八＜爪＞章魚」。\n",
      "WARNING: target not found in,  一隻八＜爪＞黑蜘蛛網上掉下來，伸出兩條又細又長的白腿，變成一個嗲聲嗲氣，每個男人都著魔的女人。\n",
      "WARNING: cannot locate target locations:  一隻八＜爪＞黑蜘蛛網上掉下來，伸出兩條又細又長的白腿，變成一個嗲聲嗲氣，每個男人都著魔的女人。\n",
      "No valid embeddings from examples\n",
      "expected a non-empty list of Tensors\n",
      "WARNING: target not found in,  清廷在此修纂之中，行文化專制，抽刪毀滅古籍\n",
      "WARNING: cannot locate target locations:  清廷在此修纂之中，行文化專制，抽刪毀滅古籍\n",
      "WARNING: target not found in,  存學術偏見，排斥文學藝術\n",
      "WARNING: cannot locate target locations:  存學術偏見，排斥文學藝術\n",
      "WARNING: target not found in,  執閉關鎖國，抵制西學東漸\n",
      "WARNING: cannot locate target locations:  執閉關鎖國，抵制西學東漸\n",
      "WARNING: target not found in,  他因為另一半外遇，受不了這個打擊，於是瘋了。\n",
      "WARNING: cannot locate target locations:  他因為另一半外遇，受不了這個打擊，於是瘋了。\n",
      "No valid embeddings from examples\n",
      "WARNING: target not found in,  他尷尬的向秦聖清笑了下，吩咐下面的田許送兩盞熱茶上來。\n",
      "WARNING: cannot locate target locations:  他尷尬的向秦聖清笑了下，吩咐下面的田許送兩盞熱茶上來。\n",
      "WARNING: target not found in,  茶是女人的一盞酒，在屬於我私人的時間段裡，我最喜歡去的地方就是茶吧了。\n",
      "WARNING: cannot locate target locations:  茶是女人的一盞酒，在屬於我私人的時間段裡，我最喜歡去的地方就是茶吧了。\n",
      "WARNING: target not found in,  譚式微兩手熟練的忙活著，嘴裡自言自語地念叨，似乎一屋子生員不存在一樣：「一盞水裡加食鹽，一盞水裡加硝石。」\n",
      "WARNING: cannot locate target locations:  譚式微兩手熟練的忙活著，嘴裡自言自語地念叨，似乎一屋子生員不存在一樣：「一盞水裡加食鹽，一盞水裡加硝石。」\n",
      "No valid embeddings from examples\n",
      "WARNING: target not found in,  當聾與瞎合演一齣戲時，會激盪怎樣的火花呢？\n",
      "WARNING: cannot locate target locations:  當聾與瞎合演一齣戲時，會激盪怎樣的火花呢？\n",
      "WARNING: target not found in,  普通名詞。比喻具有影響前述事件發展的抽象力量。\n",
      "WARNING: cannot locate target locations:  普通名詞。比喻具有影響前述事件發展的抽象力量。\n",
      "expected a non-empty list of Tensors\n",
      "WARNING: target not found in,  由於國際美元趨堅，新台幣貶值，兌美元價位突1:32關卡。\n",
      "WARNING: cannot locate target locations:  由於國際美元趨堅，新台幣貶值，兌美元價位突1:32關卡。\n",
      "No valid embeddings from examples\n",
      "expected a non-empty list of Tensors\n",
      "expected a non-empty list of Tensors\n",
      "WARNING: target not found in,  一位姓＜考＞的安全生產組長對採訪表現出明顯的敵意，告訴記者礦長不在，拒絕回答記者提出的問題。\n",
      "WARNING: cannot locate target locations:  一位姓＜考＞的安全生產組長對採訪表現出明顯的敵意，告訴記者礦長不在，拒絕回答記者提出的問題。\n",
      "No valid embeddings from examples\n",
      "expected a non-empty list of Tensors\n",
      "expected a non-empty list of Tensors\n",
      "expected a non-empty list of Tensors\n",
      "expected a non-empty list of Tensors\n",
      "expected a non-empty list of Tensors\n",
      "expected a non-empty list of Tensors\n",
      "expected a non-empty list of Tensors\n",
      "expected a non-empty list of Tensors\n",
      "expected a non-empty list of Tensors\n",
      "WARNING: target not found in,  ＜計＞衡為宋代朝奉大夫，字致平，紹興進士。\n",
      "WARNING: cannot locate target locations:  ＜計＞衡為宋代朝奉大夫，字致平，紹興進士。\n",
      "WARNING: target not found in,  丁問道：「老丈高姓大名？」那老人道：「老漢姓＜計＞。」\n",
      "WARNING: cannot locate target locations:  丁問道：「老丈高姓大名？」那老人道：「老漢姓＜計＞。」\n",
      "No valid embeddings from examples\n",
      "expected a non-empty list of Tensors\n",
      "WARNING: target not found in,  為避免外界對政府有「圖利台塑」之譏，這項法案不應該通過。\n",
      "WARNING: cannot locate target locations:  為避免外界對政府有「圖利台塑」之譏，這項法案不應該通過。\n",
      "WARNING: target not found in,  屏東縣政府將舉辦美術聯展，提升屏東縣文化水準，洗刷「文化沙漠」之譏。\n",
      "WARNING: cannot locate target locations:  屏東縣政府將舉辦美術聯展，提升屏東縣文化水準，洗刷「文化沙漠」之譏。\n",
      "expected a non-empty list of Tensors\n",
      "WARNING: target not found in,  逐水草、親山林之徒。\n",
      "WARNING: cannot locate target locations:  逐水草、親山林之徒。\n",
      "expected a non-empty list of Tensors\n",
      "expected a non-empty list of Tensors\n",
      "expected a non-empty list of Tensors\n",
      "WARNING: target not found in,  把<鉤釘在牆上，然後把畫掛上。\n",
      "WARNING: cannot locate target locations:  把<鉤釘在牆上，然後把畫掛上。\n",
      "WARNING: cannot locate target locations:  宋朝時因避宋高宗趙構嫌名，勾氏或加金旁為<鉤氏，如<鉤>光祖。\n",
      "expected a non-empty list of Tensors\n",
      "expected a non-empty list of Tensors\n",
      "WARNING: target not found in,  雙十節之後，台股會陷入一、二周的整理，可以視作7000點的關前及關後整理。\n",
      "WARNING: cannot locate target locations:  雙十節之後，台股會陷入一、二周的整理，可以視作7000點的關前及關後整理。\n",
      "expected a non-empty list of Tensors\n",
      "expected a non-empty list of Tensors\n",
      "WARNING: target not found in,  那天在台八線梨山往合歡山的方向，山谷間可以看到巨嘴＜鴉＞在飛。\n",
      "WARNING: cannot locate target locations:  那天在台八線梨山往合歡山的方向，山谷間可以看到巨嘴＜鴉＞在飛。\n",
      "\n"
     ]
    }
   ],
   "source": [
    "char_senses = {}\n",
    "for ch in tqdm(cwn_chars):\n",
    "    try:\n",
    "        char_senses[ch] = get_char_sense_vectors(ch, cwn, bert, sense_embed)\n",
    "    except Exception as ex:\n",
    "        print(ex)        "
   ]
  },
  {
   "cell_type": "code",
   "execution_count": 28,
   "metadata": {},
   "outputs": [],
   "source": [
    "install_data_cache('sense_vectors')"
   ]
  },
  {
   "cell_type": "code",
   "execution_count": 29,
   "metadata": {},
   "outputs": [],
   "source": [
    "cache_path = get_cache_path('sense_vectors', 'char_senses.pkl')\n",
    "with open(cache_path, \"wb\") as fout:\n",
    "    pickle.dump(char_senses, fout)"
   ]
  },
  {
   "cell_type": "code",
   "execution_count": null,
   "metadata": {},
   "outputs": [],
   "source": []
  }
 ],
 "metadata": {
  "kernelspec": {
   "display_name": "Python 3",
   "language": "python",
   "name": "python3"
  },
  "language_info": {
   "codemirror_mode": {
    "name": "ipython",
    "version": 3
   },
   "file_extension": ".py",
   "mimetype": "text/x-python",
   "name": "python",
   "nbconvert_exporter": "python",
   "pygments_lexer": "ipython3",
   "version": "3.7.2"
  }
 },
 "nbformat": 4,
 "nbformat_minor": 2
}
