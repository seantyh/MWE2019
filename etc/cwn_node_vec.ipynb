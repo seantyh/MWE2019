{
 "cells": [
  {
   "cell_type": "markdown",
   "metadata": {},
   "source": [
    "# CwnNodeVec"
   ]
  },
  {
   "cell_type": "code",
   "execution_count": 1,
   "metadata": {},
   "outputs": [],
   "source": [
    "%load_ext autoreload\n",
    "%autoreload 2\n",
    "%matplotlib inline\n",
    "import sys\n",
    "sys.path.append(\"../\")"
   ]
  },
  {
   "cell_type": "code",
   "execution_count": 2,
   "metadata": {},
   "outputs": [],
   "source": [
    "import pickle\n",
    "from itertools import chain\n",
    "import numpy as np\n",
    "import networkx as nx\n",
    "import matplotlib.pyplot as plt\n",
    "from tqdm import tqdm_notebook as tqdm"
   ]
  },
  {
   "cell_type": "code",
   "execution_count": 3,
   "metadata": {},
   "outputs": [],
   "source": [
    "from MWE2019.cwn_node_vec import CwnNodeVec\n",
    "from MWE2019.cwn_vectors import CwnVectors"
   ]
  },
  {
   "cell_type": "markdown",
   "metadata": {},
   "source": [
    "## node2vec random walk parameters"
   ]
  },
  {
   "cell_type": "markdown",
   "metadata": {},
   "source": [
    "|    feature | structure equivalence |  homophily     |\n",
    "|------------|:-----------------------:|:----------------:|\n",
    "|  algorithm |        BFS            |     DFS        |\n",
    "|  node2vec  |  p↓, q↑               |     p↑, q↓     |\n",
    "\n",
    "Where p is return parameter and q is in-out parameter"
   ]
  },
  {
   "cell_type": "code",
   "execution_count": 6,
   "metadata": {},
   "outputs": [
    {
     "name": "stdout",
     "output_type": "stream",
     "text": [
      "load CwnNodeVec from cache:  ..\\MWE2019\\..\\data\\cache_cwn_node_vec\\cwn_node_vec_structeq.pkl\n",
      "load CwnNodeVec from cache:  ..\\MWE2019\\..\\data\\cache_cwn_node_vec\\cwn_node_vec_homophily.pkl\n",
      "load CwnNodeVec from cache:  ..\\MWE2019\\..\\data\\cache_cwn_node_vec\\cwn_node_vec_randomwalk.pkl\n"
     ]
    }
   ],
   "source": [
    "cwn_nv_eq = CwnNodeVec(name='structeq', dimensions=100, walk_length=10, num_walks=20, p=0.5, q=2)\n",
    "cwn_nv_homo = CwnNodeVec(name='homophily', dimensions=100, walk_length=10, num_walks=20, p=2, q=0.5)\n",
    "cwn_nv_rw = CwnNodeVec(name='randomwalk', dimensions=100, walk_length=10, num_walks=20, p=1, q=1)"
   ]
  },
  {
   "cell_type": "markdown",
   "metadata": {},
   "source": [
    "## single-character word from FastText pretrained embeddings"
   ]
  },
  {
   "cell_type": "code",
   "execution_count": 7,
   "metadata": {},
   "outputs": [
    {
     "name": "stdout",
     "output_type": "stream",
     "text": [
      "load from cache:  E:\\LangOn\\MWE2019\\data\\cache_cwn_vectors\\cwn_vectors.pkl\n"
     ]
    }
   ],
   "source": [
    "from gensim.models import KeyedVectors\n",
    "cwn_vec = CwnVectors()\n",
    "cwn_kv = KeyedVectors(cwn_vec.dim)\n",
    "cwn_kv.add([cwn_vec.itos[i] for i in range(len(cwn_vec.itos))], cwn_vec.vectors)"
   ]
  },
  {
   "cell_type": "code",
   "execution_count": 8,
   "metadata": {},
   "outputs": [
    {
     "data": {
      "text/plain": [
       "[('認', 0.9780995845794678),\n",
       " ('產', 0.9743243455886841),\n",
       " ('說', 0.9737245440483093),\n",
       " ('還', 0.9735196232795715),\n",
       " ('當', 0.9732926487922668),\n",
       " ('窮', 0.9731267094612122),\n",
       " ('卻', 0.9730618000030518),\n",
       " ('讓', 0.9728891849517822),\n",
       " ('歸', 0.9728533029556274),\n",
       " ('殺', 0.9722965955734253)]"
      ]
     },
     "execution_count": 8,
     "metadata": {},
     "output_type": "execute_result"
    }
   ],
   "source": [
    "cwn_kv.most_similar('養', topn=10)"
   ]
  },
  {
   "cell_type": "code",
   "execution_count": 9,
   "metadata": {},
   "outputs": [
    {
     "data": {
      "text/plain": [
       "[('潔', 0.973732054233551),\n",
       " ('與', 0.9711471796035767),\n",
       " ('凱', 0.9703478813171387),\n",
       " ('絲', 0.9701326489448547),\n",
       " ('蓮', 0.9700840711593628),\n",
       " ('當', 0.9694665670394897),\n",
       " ('卻', 0.9692337512969971),\n",
       " ('喬', 0.9688867926597595),\n",
       " ('讓', 0.9688305258750916),\n",
       " ('莊', 0.9685534238815308)]"
      ]
     },
     "execution_count": 9,
     "metadata": {},
     "output_type": "execute_result"
    }
   ],
   "source": [
    "cwn_kv.most_similar('兒', topn=10)"
   ]
  },
  {
   "cell_type": "code",
   "execution_count": 10,
   "metadata": {},
   "outputs": [
    {
     "data": {
      "text/plain": [
       "[('時', 0.9724650382995605),\n",
       " ('當', 0.972414493560791),\n",
       " ('則', 0.9717159867286682),\n",
       " ('與', 0.9709925651550293),\n",
       " ('雲', 0.9704269766807556),\n",
       " ('之', 0.9703137278556824),\n",
       " ('還', 0.9702140092849731),\n",
       " ('並', 0.9701560735702515),\n",
       " ('雖', 0.9701269865036011),\n",
       " ('卻', 0.9700703620910645)]"
      ]
     },
     "execution_count": 10,
     "metadata": {},
     "output_type": "execute_result"
    }
   ],
   "source": [
    "cwn_kv.most_similar('風', topn=10)"
   ]
  },
  {
   "cell_type": "code",
   "execution_count": 11,
   "metadata": {},
   "outputs": [
    {
     "data": {
      "text/plain": [
       "[('風光', 0.959679365158081),\n",
       " ('景觀', 0.952193021774292),\n",
       " ('景色', 0.9506864547729492),\n",
       " ('名勝', 0.9477312564849854),\n",
       " ('優美', 0.9443559646606445),\n",
       " ('場景', 0.9387326240539551),\n",
       " ('遠景', 0.9385495185852051),\n",
       " ('遊覽', 0.9379920363426208),\n",
       " ('領略', 0.9359688758850098),\n",
       " ('夜景', 0.9358265399932861)]"
      ]
     },
     "execution_count": 11,
     "metadata": {},
     "output_type": "execute_result"
    }
   ],
   "source": [
    "cwn_kv.most_similar('風景', topn=10)"
   ]
  },
  {
   "cell_type": "markdown",
   "metadata": {},
   "source": [
    "## node embeddings"
   ]
  },
  {
   "cell_type": "code",
   "execution_count": 12,
   "metadata": {},
   "outputs": [],
   "source": [
    "from pprint import pprint\n",
    "def show_nv_samples(word):\n",
    "    print(\"--- Homophily ---\")\n",
    "    pprint(cwn_nv_homo.node_most_similar(word))\n",
    "    print(\"--- Random Walk ---\")\n",
    "    pprint(cwn_nv_rw.node_most_similar(word))\n",
    "    print(\"--- Structure Equivalence ---\")\n",
    "    pprint(cwn_nv_eq.node_most_similar(word))"
   ]
  },
  {
   "cell_type": "code",
   "execution_count": 13,
   "metadata": {},
   "outputs": [
    {
     "name": "stdout",
     "output_type": "stream",
     "text": [
      "--- Homophily ---\n",
      "[('餵', 0.8972288966178894),\n",
      " ('畜', 0.8379783034324646),\n",
      " ('飼', 0.8221665620803833),\n",
      " ('蓄', 0.8183460831642151),\n",
      " ('撫', 0.7352026104927063)]\n",
      "--- Random Walk ---\n",
      "[('餵', 0.905147910118103),\n",
      " ('蓄', 0.8543225526809692),\n",
      " ('畜', 0.8442349433898926),\n",
      " ('飼', 0.7797045707702637),\n",
      " ('撫', 0.7777304649353027)]\n",
      "--- Structure Equivalence ---\n",
      "[('畜', 0.9135547876358032),\n",
      " ('餵', 0.912987232208252),\n",
      " ('蓄', 0.8916459083557129),\n",
      " ('飼', 0.8151147365570068),\n",
      " ('撫', 0.7542983889579773)]\n"
     ]
    }
   ],
   "source": [
    "show_nv_samples('養')"
   ]
  },
  {
   "cell_type": "code",
   "execution_count": 14,
   "metadata": {},
   "outputs": [
    {
     "name": "stdout",
     "output_type": "stream",
     "text": [
      "--- Homophily ---\n",
      "[('鳳', 0.9601813554763794),\n",
      " ('男', 0.9254202842712402),\n",
      " ('娃', 0.9033308625221252),\n",
      " ('犢', 0.8762232065200806),\n",
      " ('仔', 0.8657761216163635)]\n",
      "--- Random Walk ---\n",
      "[('鳳', 0.9728346467018127),\n",
      " ('男', 0.9188355207443237),\n",
      " ('女', 0.875070333480835),\n",
      " ('犢', 0.8745706081390381),\n",
      " ('娃', 0.8691387176513672)]\n",
      "--- Structure Equivalence ---\n",
      "[('鳳', 0.9629033803939819),\n",
      " ('男', 0.9488214254379272),\n",
      " ('犢', 0.9092534780502319),\n",
      " ('娃', 0.8866438269615173),\n",
      " ('仔', 0.8721786737442017)]\n"
     ]
    }
   ],
   "source": [
    "show_nv_samples('兒')"
   ]
  },
  {
   "cell_type": "code",
   "execution_count": 15,
   "metadata": {},
   "outputs": [
    {
     "name": "stdout",
     "output_type": "stream",
     "text": [
      "--- Homophily ---\n",
      "[('羊', 0.9630019068717957),\n",
      " ('蛇', 0.9614315032958984),\n",
      " ('猴', 0.9524335265159607),\n",
      " ('鼠', 0.9457031488418579),\n",
      " ('豚', 0.9422175884246826)]\n",
      "--- Random Walk ---\n",
      "[('羊', 0.9697642922401428),\n",
      " ('猴', 0.9639137983322144),\n",
      " ('蛇', 0.9636883735656738),\n",
      " ('豕', 0.9621343612670898),\n",
      " ('鼠', 0.9571025967597961)]\n",
      "--- Structure Equivalence ---\n",
      "[('猴', 0.9762941598892212),\n",
      " ('鼠', 0.9735512733459473),\n",
      " ('羊', 0.9707208871841431),\n",
      " ('蛇', 0.9686909317970276),\n",
      " ('犬', 0.9549028873443604)]\n"
     ]
    }
   ],
   "source": [
    "show_nv_samples('豬')"
   ]
  },
  {
   "cell_type": "code",
   "execution_count": 16,
   "metadata": {},
   "outputs": [
    {
     "name": "stdout",
     "output_type": "stream",
     "text": [
      "--- Homophily ---\n",
      "[('頌', 0.8811260461807251),\n",
      " ('朗', 0.7877450585365295),\n",
      " ('誇', 0.777070939540863),\n",
      " ('貴', 0.726963996887207),\n",
      " ('險', 0.7220146656036377)]\n",
      "--- Random Walk ---\n",
      "[('頌', 0.8492475748062134),\n",
      " ('朗', 0.8007259368896484),\n",
      " ('誇', 0.7287760972976685),\n",
      " ('險', 0.7172541618347168),\n",
      " ('雅', 0.6749786734580994)]\n",
      "--- Structure Equivalence ---\n",
      "[('頌', 0.8470735549926758),\n",
      " ('朗', 0.8300853967666626),\n",
      " ('雅', 0.6752527952194214),\n",
      " ('誇', 0.6319882869720459),\n",
      " ('險', 0.6258758306503296)]\n"
     ]
    }
   ],
   "source": [
    "show_nv_samples('風')"
   ]
  },
  {
   "cell_type": "markdown",
   "metadata": {},
   "source": [
    "# Score"
   ]
  },
  {
   "cell_type": "markdown",
   "metadata": {},
   "source": [
    "$$\n",
    "p(x_2 \\mid x_1) = \\textrm{softmax}(\\phi(x_1, x_2); x_2) = \n",
    "    \\frac{\\exp\\left(\\phi(x_1, x_2)\\right)}\n",
    "    {\\sum_{y \\in X} \\exp\\left(\\phi(x_1, y)\\right)}\n",
    "$$\n",
    "\n",
    "$\\phi(x, y)$ is the cosine similarity between two nodes"
   ]
  },
  {
   "cell_type": "code",
   "execution_count": 17,
   "metadata": {},
   "outputs": [
    {
     "data": {
      "text/plain": [
       "(array([1.520e+02, 1.116e+03, 1.619e+03, 8.100e+02, 1.130e+02, 1.100e+01,\n",
       "        1.000e+00, 4.000e+00, 2.000e+00, 2.000e+00]),\n",
       " array([0.00016543, 0.00020493, 0.00024443, 0.00028392, 0.00032342,\n",
       "        0.00036292, 0.00040242, 0.00044192, 0.00048142, 0.00052092,\n",
       "        0.00056042], dtype=float32),\n",
       " <a list of 10 Patch objects>)"
      ]
     },
     "execution_count": 17,
     "metadata": {},
     "output_type": "execute_result"
    },
    {
     "data": {
      "image/png": "[encoded data removed]",
      "text/plain": [
       "<Figure size 432x288 with 1 Axes>"
      ]
     },
     "metadata": {
      "needs_background": "light"
     },
     "output_type": "display_data"
    }
   ],
   "source": [
    "plt.hist(cwn_nv_homo.prob_x2('養').values())"
   ]
  },
  {
   "cell_type": "code",
   "execution_count": 18,
   "metadata": {},
   "outputs": [
    {
     "data": {
      "text/plain": [
       "(array([1.860e+02, 1.100e+03, 1.797e+03, 6.700e+02, 6.000e+01, 8.000e+00,\n",
       "        3.000e+00, 1.000e+00, 2.000e+00, 3.000e+00]),\n",
       " array([0.00016902, 0.00020838, 0.00024775, 0.00028712, 0.00032648,\n",
       "        0.00036585, 0.00040522, 0.00044458, 0.00048395, 0.00052331,\n",
       "        0.00056268], dtype=float32),\n",
       " <a list of 10 Patch objects>)"
      ]
     },
     "execution_count": 18,
     "metadata": {},
     "output_type": "execute_result"
    },
    {
     "data": {
      "image/png": "[encoded data removed]",
      "text/plain": [
       "<Figure size 432x288 with 1 Axes>"
      ]
     },
     "metadata": {
      "needs_background": "light"
     },
     "output_type": "display_data"
    }
   ],
   "source": [
    "plt.hist(cwn_nv_rw.prob_x2('養').values())"
   ]
  },
  {
   "cell_type": "code",
   "execution_count": 19,
   "metadata": {},
   "outputs": [
    {
     "data": {
      "text/plain": [
       "(array([2.240e+02, 7.730e+02, 1.509e+03, 1.114e+03, 1.840e+02, 1.600e+01,\n",
       "        2.000e+00, 4.000e+00, 1.000e+00, 3.000e+00]),\n",
       " array([0.00016338, 0.00020111, 0.00023884, 0.00027656, 0.00031429,\n",
       "        0.00035202, 0.00038975, 0.00042748, 0.00046521, 0.00050294,\n",
       "        0.00054067], dtype=float32),\n",
       " <a list of 10 Patch objects>)"
      ]
     },
     "execution_count": 19,
     "metadata": {},
     "output_type": "execute_result"
    },
    {
     "data": {
      "image/png": "[encoded data removed]",
      "text/plain": [
       "<Figure size 432x288 with 1 Axes>"
      ]
     },
     "metadata": {
      "needs_background": "light"
     },
     "output_type": "display_data"
    }
   ],
   "source": [
    "plt.hist(cwn_nv_eq.prob_x2('養').values())"
   ]
  },
  {
   "cell_type": "markdown",
   "metadata": {},
   "source": [
    "$$\n",
    "p(x_1, x_2, x_3, x_4) = p(x_2 \\mid x_1)\\,p(x_3 \\mid x_2)\\,p(x_4 \\mid x_3)\n",
    "$$"
   ]
  },
  {
   "cell_type": "code",
   "execution_count": 30,
   "metadata": {},
   "outputs": [],
   "source": [
    "def qie_prob(qie, cwn_nv):\n",
    "    logP = np.sum(np.log([\n",
    "        cwn_nv.prob_x2(qie[0])[qie[1]], \n",
    "        cwn_nv.prob_x2(qie[1])[qie[2]], \n",
    "        cwn_nv.prob_x2(qie[2])[qie[3]], \n",
    "    ]))\n",
    "    return logP\n",
    "\n",
    "def show_qie_prob(qie):\n",
    "    print(f'---- {qie} ----')\n",
    "    print(\"homophily: \", qie_prob(qie, cwn_nv_homo))\n",
    "    print(\"Random Walk: \", qie_prob(qie, cwn_nv_rw))\n",
    "    print(\"Struct Equiv: \", qie_prob(qie, cwn_nv_eq))\n",
    "    print(\"> values shown are log probabilities\")"
   ]
  },
  {
   "cell_type": "code",
   "execution_count": 31,
   "metadata": {},
   "outputs": [
    {
     "name": "stdout",
     "output_type": "stream",
     "text": [
      "---- 養兒防老 ----\n",
      "homophily:  -25.15175\n",
      "Random Walk:  -25.02118\n",
      "Struct Equiv:  -24.845314\n",
      "> values shown are log probabilities\n"
     ]
    }
   ],
   "source": [
    "show_qie_prob(\"養兒防老\")"
   ]
  },
  {
   "cell_type": "code",
   "execution_count": 32,
   "metadata": {},
   "outputs": [
    {
     "name": "stdout",
     "output_type": "stream",
     "text": [
      "---- 相互扶持 ----\n",
      "homophily:  -23.825315\n",
      "Random Walk:  -23.805883\n",
      "Struct Equiv:  -23.889053\n",
      "> values shown are log probabilities\n"
     ]
    }
   ],
   "source": [
    "show_qie_prob(\"相互扶持\")"
   ]
  },
  {
   "cell_type": "code",
   "execution_count": 33,
   "metadata": {},
   "outputs": [
    {
     "name": "stdout",
     "output_type": "stream",
     "text": [
      "---- 對牛彈琴 ----\n",
      "homophily:  -24.727793\n",
      "Random Walk:  -24.793005\n",
      "Struct Equiv:  -24.709614\n",
      "> values shown are log probabilities\n"
     ]
    }
   ],
   "source": [
    "show_qie_prob(\"對牛彈琴\")"
   ]
  },
  {
   "cell_type": "code",
   "execution_count": null,
   "metadata": {},
   "outputs": [],
   "source": []
  }
 ],
 "metadata": {
  "kernelspec": {
   "display_name": "Python 3",
   "language": "python",
   "name": "python3"
  },
  "language_info": {
   "codemirror_mode": {
    "name": "ipython",
    "version": 3
   },
   "file_extension": ".py",
   "mimetype": "text/x-python",
   "name": "python",
   "nbconvert_exporter": "python",
   "pygments_lexer": "ipython3",
   "version": "3.7.2"
  }
 },
 "nbformat": 4,
 "nbformat_minor": 2
}
