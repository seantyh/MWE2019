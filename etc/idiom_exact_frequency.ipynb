{
 "cells": [
  {
   "cell_type": "markdown",
   "metadata": {},
   "source": [
    "# Idiom Exact Frequency"
   ]
  },
  {
   "cell_type": "code",
   "execution_count": 1,
   "metadata": {},
   "outputs": [],
   "source": [
    "import sys\n",
    "sys.path.append(\"../\")"
   ]
  },
  {
   "cell_type": "code",
   "execution_count": 8,
   "metadata": {},
   "outputs": [],
   "source": [
    "import local_config\n",
    "from itertools import chain, islice\n",
    "from collections import Counter\n",
    "from MWE2019.materials import NGram4List, MoeIdioms\n",
    "from MWE2019.corpus import CorpusFactory\n",
    "from MWE2019.utils import get_cache_path, install_data_cache\n",
    "from tqdm import tqdm_notebook as tqdm"
   ]
  },
  {
   "cell_type": "code",
   "execution_count": 9,
   "metadata": {},
   "outputs": [],
   "source": [
    "idioms = MoeIdioms()"
   ]
  },
  {
   "cell_type": "code",
   "execution_count": 10,
   "metadata": {},
   "outputs": [],
   "source": [
    "ptt = CorpusFactory.GetPttCorpus(local_config.CORPUS_DIR + \"/PTT\")\n",
    "ctimes = CorpusFactory.GetNewsCorpus(local_config.CORPUS_DIR + \"/China_text\")\n",
    "apple = CorpusFactory.GetNewsCorpus(local_config.CORPUS_DIR + \"/Apple_text\")"
   ]
  },
  {
   "cell_type": "code",
   "execution_count": null,
   "metadata": {},
   "outputs": [
    {
     "data": {
      "application/vnd.jupyter.widget-view+json": {
       "model_id": "b13c42fd1fd54084a3ecb4894f8cb868",
       "version_major": 2,
       "version_minor": 0
      },
      "text/plain": [
       "HBox(children=(IntProgress(value=1, bar_style='info', max=1), HTML(value='')))"
      ]
     },
     "metadata": {},
     "output_type": "display_data"
    }
   ],
   "source": [
    "idiom_freq = Counter()\n",
    "idiom_list = list(idioms)\n",
    "# took around ~60 minutes, in i7 single process\n",
    "all_iter = chain(ptt.articles(), ctimes.articles(), apple.articles())\n",
    "# all_iter = islice(all_iter, 1000)\n",
    "for _, _, art_x in tqdm(all_iter):\n",
    "    idiom_freq.update({idiom_x: art_x.count(idiom_x) for idiom_x in idiom_list}) "
   ]
  },
  {
   "cell_type": "code",
   "execution_count": null,
   "metadata": {},
   "outputs": [],
   "source": [
    "install_data_cache(\"qie_list\")\n",
    "idiom_freq_path = get_cache_path(\"qie_list\", \"idiom_exact_frequency.pkl\")\n",
    "with open(idiom_freq_path, \"wb\") as fout:\n",
    "    pickle.dump(idiom_freq, fout)"
   ]
  },
  {
   "cell_type": "code",
   "execution_count": null,
   "metadata": {},
   "outputs": [],
   "source": []
  }
 ],
 "metadata": {
  "kernelspec": {
   "display_name": "Python 3",
   "language": "python",
   "name": "python3"
  },
  "language_info": {
   "codemirror_mode": {
    "name": "ipython",
    "version": 3
   },
   "file_extension": ".py",
   "mimetype": "text/x-python",
   "name": "python",
   "nbconvert_exporter": "python",
   "pygments_lexer": "ipython3",
   "version": "3.7.2"
  }
 },
 "nbformat": 4,
 "nbformat_minor": 2
}
