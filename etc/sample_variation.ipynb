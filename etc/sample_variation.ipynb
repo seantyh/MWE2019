{
 "cells": [
  {
   "cell_type": "code",
   "execution_count": 1,
   "metadata": {},
   "outputs": [],
   "source": [
    "%load_ext autoreload\n",
    "%autoreload 2\n",
    "%matplotlib inline"
   ]
  },
  {
   "cell_type": "code",
   "execution_count": 2,
   "metadata": {},
   "outputs": [],
   "source": [
    "import os\n",
    "import sys\n",
    "sys.path.append(\"../\")"
   ]
  },
  {
   "cell_type": "code",
   "execution_count": 3,
   "metadata": {},
   "outputs": [],
   "source": [
    "import local_config\n",
    "from MWE2019.corpus import CorpusFactory\n",
    "from MWE2019.variations import VariationFinder"
   ]
  },
  {
   "cell_type": "code",
   "execution_count": 4,
   "metadata": {},
   "outputs": [],
   "source": [
    "import pandas as pd\n",
    "import numpy as np\n",
    "from tqdm import tqdm_notebook as tqdm\n",
    "from datetime import datetime"
   ]
  },
  {
   "cell_type": "code",
   "execution_count": 5,
   "metadata": {},
   "outputs": [],
   "source": [
    "ptt = CorpusFactory.GetPttCorpus(local_config.CORPUS_DIR + \"/PTT\")\n",
    "ctimes = CorpusFactory.GetNewsCorpus(local_config.CORPUS_DIR + \"/China_text\")\n",
    "apple = CorpusFactory.GetNewsCorpus(local_config.CORPUS_DIR + \"/Apple_text\")"
   ]
  },
  {
   "cell_type": "code",
   "execution_count": 6,
   "metadata": {},
   "outputs": [],
   "source": [
    "# Sample pattern variations\n",
    "def build_ngram4_dframe():\n",
    "    ngram4 = pd.read_csv(\"../resources/ngram_4.csv\")\n",
    "    ngram4[\"insertion\"] = np.nan\n",
    "    ngram4[\"substitution\"] = np.nan\n",
    "    ngram4[\"deletion\"] = np.nan\n",
    "    return ngram4"
   ]
  },
  {
   "cell_type": "code",
   "execution_count": 7,
   "metadata": {},
   "outputs": [],
   "source": [
    "NGRAM4_DFRAME_PATH = \"../data/ngram4_variation.csv\"\n",
    "if os.path.exists(NGRAM4_DFRAME_PATH):\n",
    "    ngram4 = pd.read_csv(NGRAM4_DFRAME_PATH)\n",
    "else:\n",
    "    ngram4 = build_ngram4_dframe()"
   ]
  },
  {
   "cell_type": "code",
   "execution_count": 8,
   "metadata": {},
   "outputs": [
    {
     "data": {
      "text/html": [
       "<div>\n",
       "<style scoped>\n",
       "    .dataframe tbody tr th:only-of-type {\n",
       "        vertical-align: middle;\n",
       "    }\n",
       "\n",
       "    .dataframe tbody tr th {\n",
       "        vertical-align: top;\n",
       "    }\n",
       "\n",
       "    .dataframe thead th {\n",
       "        text-align: right;\n",
       "    }\n",
       "</style>\n",
       "<table border=\"1\" class=\"dataframe\">\n",
       "  <thead>\n",
       "    <tr style=\"text-align: right;\">\n",
       "      <th></th>\n",
       "      <th>ngram</th>\n",
       "      <th>freq</th>\n",
       "      <th>insertion</th>\n",
       "      <th>substitution</th>\n",
       "      <th>deletion</th>\n",
       "    </tr>\n",
       "  </thead>\n",
       "  <tbody>\n",
       "    <tr>\n",
       "      <th>0</th>\n",
       "      <td>台北報導</td>\n",
       "      <td>206875</td>\n",
       "      <td>NaN</td>\n",
       "      <td>NaN</td>\n",
       "      <td>NaN</td>\n",
       "    </tr>\n",
       "    <tr>\n",
       "      <th>1</th>\n",
       "      <td>資料來源</td>\n",
       "      <td>121438</td>\n",
       "      <td>NaN</td>\n",
       "      <td>NaN</td>\n",
       "      <td>NaN</td>\n",
       "    </tr>\n",
       "    <tr>\n",
       "      <th>2</th>\n",
       "      <td>綜合報導</td>\n",
       "      <td>112063</td>\n",
       "      <td>NaN</td>\n",
       "      <td>NaN</td>\n",
       "      <td>NaN</td>\n",
       "    </tr>\n",
       "    <tr>\n",
       "      <th>3</th>\n",
       "      <td>中華民國</td>\n",
       "      <td>58360</td>\n",
       "      <td>NaN</td>\n",
       "      <td>NaN</td>\n",
       "      <td>NaN</td>\n",
       "    </tr>\n",
       "    <tr>\n",
       "      <th>4</th>\n",
       "      <td>最重要的</td>\n",
       "      <td>35402</td>\n",
       "      <td>NaN</td>\n",
       "      <td>NaN</td>\n",
       "      <td>NaN</td>\n",
       "    </tr>\n",
       "  </tbody>\n",
       "</table>\n",
       "</div>"
      ],
      "text/plain": [
       "  ngram    freq  insertion  substitution  deletion\n",
       "0  台北報導  206875        NaN           NaN       NaN\n",
       "1  資料來源  121438        NaN           NaN       NaN\n",
       "2  綜合報導  112063        NaN           NaN       NaN\n",
       "3  中華民國   58360        NaN           NaN       NaN\n",
       "4  最重要的   35402        NaN           NaN       NaN"
      ]
     },
     "execution_count": 8,
     "metadata": {},
     "output_type": "execute_result"
    }
   ],
   "source": [
    "ngram4.head()"
   ]
  },
  {
   "cell_type": "markdown",
   "metadata": {},
   "source": [
    "## i. prepare sampling buffer"
   ]
  },
  {
   "cell_type": "code",
   "execution_count": 9,
   "metadata": {},
   "outputs": [
    {
     "data": {
      "application/vnd.jupyter.widget-view+json": {
       "model_id": "7e63a1c7b3234b4fbf0bf9ea7c7a3658",
       "version_major": 2,
       "version_minor": 0
      },
      "text/plain": [
       "HBox(children=(IntProgress(value=0, max=319201), HTML(value='')))"
      ]
     },
     "metadata": {},
     "output_type": "display_data"
    },
    {
     "name": "stdout",
     "output_type": "stream",
     "text": [
      "\n"
     ]
    }
   ],
   "source": [
    "\n",
    "SAMPLE_RATE = 0.001\n",
    "np.random.seed(21563)\n",
    "rand_vec = np.random.random(ngram4.shape[0])\n",
    "samples = []\n",
    "for rnd, (ridx, row) in tqdm(zip(rand_vec, ngram4.iterrows()), total=len(rand_vec)):\n",
    "    if rnd < SAMPLE_RATE:\n",
    "        if not row.isnull().any(): continue\n",
    "        samples.append((ridx, row.ngram))"
   ]
  },
  {
   "cell_type": "code",
   "execution_count": 10,
   "metadata": {},
   "outputs": [
    {
     "data": {
      "text/plain": [
       "343"
      ]
     },
     "execution_count": 10,
     "metadata": {},
     "output_type": "execute_result"
    }
   ],
   "source": [
    "len(samples)"
   ]
  },
  {
   "cell_type": "code",
   "execution_count": 11,
   "metadata": {},
   "outputs": [
    {
     "data": {
      "text/plain": [
       "[(2, '綜合報導'),\n",
       " (2751, '漸行漸遠'),\n",
       " (2954, '不願具名'),\n",
       " (4727, '緣木求魚'),\n",
       " (5997, '入監服刑'),\n",
       " (6401, '鄉民代表'),\n",
       " (6825, '只剩下一'),\n",
       " (7442, '任何事情'),\n",
       " (7799, '工作關係'),\n",
       " (9138, '我們一直')]"
      ]
     },
     "execution_count": 11,
     "metadata": {},
     "output_type": "execute_result"
    }
   ],
   "source": [
    "samples[:10]"
   ]
  },
  {
   "cell_type": "markdown",
   "metadata": {},
   "source": [
    "## ii. compute variation in sample buffer"
   ]
  },
  {
   "cell_type": "code",
   "execution_count": 12,
   "metadata": {},
   "outputs": [
    {
     "name": "stdout",
     "output_type": "stream",
     "text": [
      "pre-compiling variation patterns\n"
     ]
    },
    {
     "data": {
      "application/vnd.jupyter.widget-view+json": {
       "model_id": "e379f19c2e9d447ca9df53b37e0440ad",
       "version_major": 2,
       "version_minor": 0
      },
      "text/plain": [
       "HBox(children=(IntProgress(value=0, max=343), HTML(value='')))"
      ]
     },
     "metadata": {},
     "output_type": "display_data"
    },
    {
     "name": "stdout",
     "output_type": "stream",
     "text": [
      "\n"
     ]
    }
   ],
   "source": [
    "var_sample = VariationFinder(samples)"
   ]
  },
  {
   "cell_type": "code",
   "execution_count": 13,
   "metadata": {},
   "outputs": [
    {
     "data": {
      "text/plain": [
       "[('sub', re.compile(r'綜[㐀-\\u9fff]報導', re.UNICODE)),\n",
       " ('del', re.compile(r'綜報導', re.UNICODE)),\n",
       " ('sub', re.compile(r'綜合[㐀-\\u9fff]導', re.UNICODE)),\n",
       " ('del', re.compile(r'綜合導', re.UNICODE)),\n",
       " ('ins', re.compile(r'綜.{,10}?合.{,10}?報.{,10}?導', re.UNICODE))]"
      ]
     },
     "execution_count": 13,
     "metadata": {},
     "output_type": "execute_result"
    }
   ],
   "source": [
    "var_sample.sample_patterns[0]"
   ]
  },
  {
   "cell_type": "code",
   "execution_count": 14,
   "metadata": {},
   "outputs": [],
   "source": [
    "# reset the results buffer\n",
    "var_sample.variation_results = {}"
   ]
  },
  {
   "cell_type": "markdown",
   "metadata": {},
   "source": [
    "## iterate over apple articles"
   ]
  },
  {
   "cell_type": "code",
   "execution_count": 15,
   "metadata": {},
   "outputs": [],
   "source": [
    "def sample_articles(art_it, ratio=0.05):\n",
    "    articles = [x for x in art_it if np.random.random() < ratio] \n",
    "    return articles"
   ]
  },
  {
   "cell_type": "code",
   "execution_count": 16,
   "metadata": {},
   "outputs": [],
   "source": [
    "# apple_it = apple.articles()\n",
    "# apple_articles = [next(apple_it) for _ in range(100)]\n",
    "# apple_articles = list(apple.articles())\n",
    "apple_articles = sample_articles(apple.articles())"
   ]
  },
  {
   "cell_type": "code",
   "execution_count": 17,
   "metadata": {},
   "outputs": [],
   "source": [
    "dummy_articles = [[0,0,\"綜合以上報導\"],[0,0,\"綜合爆導\"],[0,0,\"綜報導\"]]"
   ]
  },
  {
   "cell_type": "code",
   "execution_count": 18,
   "metadata": {},
   "outputs": [
    {
     "name": "stdout",
     "output_type": "stream",
     "text": [
      "37954 33728336\n"
     ]
    }
   ],
   "source": [
    "print(len(apple_articles), sum(len(x[2]) for x in apple_articles))"
   ]
  },
  {
   "cell_type": "code",
   "execution_count": 19,
   "metadata": {},
   "outputs": [
    {
     "data": {
      "application/vnd.jupyter.widget-view+json": {
       "model_id": "943946aa8d5942f98a39a7ee25edc427",
       "version_major": 2,
       "version_minor": 0
      },
      "text/plain": [
       "HBox(children=(IntProgress(value=0, description='mapping works', max=37954, style=ProgressStyle(description_wi…"
      ]
     },
     "metadata": {},
     "output_type": "display_data"
    },
    {
     "name": "stdout",
     "output_type": "stream",
     "text": [
      "\n"
     ]
    },
    {
     "data": {
      "application/vnd.jupyter.widget-view+json": {
       "model_id": "77935b17ade3450caf893073170b6b32",
       "version_major": 2,
       "version_minor": 0
      },
      "text/plain": [
       "HBox(children=(IntProgress(value=0, description='reduce work results', max=37954, style=ProgressStyle(descript…"
      ]
     },
     "metadata": {},
     "output_type": "display_data"
    },
    {
     "name": "stdout",
     "output_type": "stream",
     "text": [
      "\n"
     ]
    }
   ],
   "source": [
    "result_buf = var_sample.search_in_corpus(apple_articles, 4)\n",
    "# var_sample.search_in_corpus(dummy_articles, 4)"
   ]
  },
  {
   "cell_type": "code",
   "execution_count": 20,
   "metadata": {},
   "outputs": [
    {
     "name": "stdout",
     "output_type": "stream",
     "text": [
      "((2, '綜合報導'), {'ins': 1756, 'del': 0, 'sub': 0})\n",
      "((2751, '漸行漸遠'), {'ins': 2, 'del': 5, 'sub': 0})\n",
      "((2954, '不願具名'), {'ins': 14, 'del': 80, 'sub': 5})\n",
      "((4727, '緣木求魚'), {'ins': 0, 'del': 0, 'sub': 0})\n",
      "((5997, '入監服刑'), {'ins': 3, 'del': 0, 'sub': 32})\n",
      "((6401, '鄉民代表'), {'ins': 9, 'del': 9, 'sub': 1})\n",
      "((6825, '只剩下一'), {'ins': 33, 'del': 81, 'sub': 22})\n",
      "((7442, '任何事情'), {'ins': 26, 'del': 11, 'sub': 20})\n",
      "((7799, '工作關係'), {'ins': 147, 'del': 4, 'sub': 1})\n",
      "((9138, '我們一直'), {'ins': 92, 'del': 386, 'sub': 62})\n"
     ]
    }
   ],
   "source": [
    "it = iter(var_sample.variation_results.items())\n",
    "for _ in range(10):\n",
    "    print(next(it))"
   ]
  },
  {
   "cell_type": "markdown",
   "metadata": {},
   "source": [
    "# update ngram4 dataframe"
   ]
  },
  {
   "cell_type": "code",
   "execution_count": 21,
   "metadata": {},
   "outputs": [],
   "source": [
    "timestamp = datetime.now().strftime(\"%y%m%d%H%M%S\")\n",
    "ngram4.to_csv(NGRAM4_DFRAME_PATH.replace(\".csv\", f\"_{timestamp}.csv\"))"
   ]
  },
  {
   "cell_type": "code",
   "execution_count": 22,
   "metadata": {},
   "outputs": [
    {
     "data": {
      "application/vnd.jupyter.widget-view+json": {
       "model_id": "a45b5bcf405a476e85195f08e8234a09",
       "version_major": 2,
       "version_minor": 0
      },
      "text/plain": [
       "HBox(children=(IntProgress(value=0, max=343), HTML(value='')))"
      ]
     },
     "metadata": {},
     "output_type": "display_data"
    },
    {
     "name": "stdout",
     "output_type": "stream",
     "text": [
      "\n"
     ]
    }
   ],
   "source": [
    "for sample_x, var_result in tqdm(var_sample.variation_results.items()):    \n",
    "    sample_id = sample_x[0]    \n",
    "    sub = var_result[\"sub\"]\n",
    "    ins = var_result[\"ins\"]\n",
    "    delt = var_result[\"del\"]    \n",
    "    ngram4.loc[sample_id, \"substitution\"] = sub\n",
    "    ngram4.loc[sample_id, \"insertion\"] = ins\n",
    "    ngram4.loc[sample_id, \"deletion\"] = delt"
   ]
  },
  {
   "cell_type": "code",
   "execution_count": 23,
   "metadata": {},
   "outputs": [
    {
     "data": {
      "text/plain": [
       "19046.0"
      ]
     },
     "execution_count": 23,
     "metadata": {},
     "output_type": "execute_result"
    }
   ],
   "source": [
    "ngram4[\"deletion\"].dropna().sum()"
   ]
  },
  {
   "cell_type": "code",
   "execution_count": 24,
   "metadata": {},
   "outputs": [],
   "source": [
    "ngram4.to_csv(NGRAM4_DFRAME_PATH)"
   ]
  },
  {
   "cell_type": "markdown",
   "metadata": {},
   "source": [
    "# Make simple visualizations"
   ]
  },
  {
   "cell_type": "code",
   "execution_count": 26,
   "metadata": {},
   "outputs": [],
   "source": [
    "import matplotlib.pyplot as plt"
   ]
  },
  {
   "cell_type": "code",
   "execution_count": 51,
   "metadata": {},
   "outputs": [
    {
     "data": {
      "text/plain": [
       "array([[1.        , 0.31914085],\n",
       "       [0.31914085, 1.        ]])"
      ]
     },
     "execution_count": 51,
     "metadata": {},
     "output_type": "execute_result"
    },
    {
     "data": {
      "image/png": "[encoded data removed]",
      "text/plain": [
       "<Figure size 432x288 with 1 Axes>"
      ]
     },
     "metadata": {
      "needs_background": "light"
     },
     "output_type": "display_data"
    }
   ],
   "source": [
    "ng = ngram4.dropna()\n",
    "plt.scatter(ng.freq, ng.insertion+1)\n",
    "plt.xscale('log')\n",
    "plt.yscale('log')\n",
    "np.corrcoef(np.log(ng.freq), np.log(ng.insertion+1))"
   ]
  },
  {
   "cell_type": "code",
   "execution_count": 52,
   "metadata": {},
   "outputs": [
    {
     "data": {
      "text/plain": [
       "array([[1.        , 0.15834937],\n",
       "       [0.15834937, 1.        ]])"
      ]
     },
     "execution_count": 52,
     "metadata": {},
     "output_type": "execute_result"
    },
    {
     "data": {
      "image/png": "[encoded data removed]",
      "text/plain": [
       "<Figure size 432x288 with 1 Axes>"
      ]
     },
     "metadata": {
      "needs_background": "light"
     },
     "output_type": "display_data"
    }
   ],
   "source": [
    "plt.scatter(ng.freq, ng.substitution+1)\n",
    "plt.xscale('log')\n",
    "plt.yscale('log')\n",
    "np.corrcoef(np.log(ng.freq), np.log(ng.substitution+1))"
   ]
  },
  {
   "cell_type": "code",
   "execution_count": 53,
   "metadata": {},
   "outputs": [
    {
     "data": {
      "text/plain": [
       "array([[1.        , 0.16679479],\n",
       "       [0.16679479, 1.        ]])"
      ]
     },
     "execution_count": 53,
     "metadata": {},
     "output_type": "execute_result"
    },
    {
     "data": {
      "image/png": "[encoded data removed]",
      "text/plain": [
       "<Figure size 432x288 with 1 Axes>"
      ]
     },
     "metadata": {
      "needs_background": "light"
     },
     "output_type": "display_data"
    }
   ],
   "source": [
    "plt.scatter(ng.freq, ng.deletion+1)\n",
    "plt.xscale('log')\n",
    "plt.yscale('log')\n",
    "np.corrcoef(np.log(ng.freq), np.log(ng.deletion+1))"
   ]
  },
  {
   "cell_type": "code",
   "execution_count": 49,
   "metadata": {},
   "outputs": [
    {
     "data": {
      "image/png": "[encoded data removed]",
      "text/plain": [
       "<Figure size 432x288 with 1 Axes>"
      ]
     },
     "metadata": {
      "needs_background": "light"
     },
     "output_type": "display_data"
    }
   ],
   "source": [
    "plt.plot(ngram4.loc[~ngram4.insertion.isnull(), \"freq\"], '.-')\n",
    "plt.yscale(\"log\")\n",
    "plt.xscale(\"log\")"
   ]
  },
  {
   "cell_type": "code",
   "execution_count": 55,
   "metadata": {},
   "outputs": [],
   "source": [
    "ng.to_csv(\"../data/sampled_ngram4.csv\")"
   ]
  },
  {
   "cell_type": "code",
   "execution_count": null,
   "metadata": {},
   "outputs": [],
   "source": []
  }
 ],
 "metadata": {
  "kernelspec": {
   "display_name": "Python 3",
   "language": "python",
   "name": "python3"
  },
  "language_info": {
   "codemirror_mode": {
    "name": "ipython",
    "version": 3
   },
   "file_extension": ".py",
   "mimetype": "text/x-python",
   "name": "python",
   "nbconvert_exporter": "python",
   "pygments_lexer": "ipython3",
   "version": "3.7.2"
  }
 },
 "nbformat": 4,
 "nbformat_minor": 2
}
