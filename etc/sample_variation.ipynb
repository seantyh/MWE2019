{
 "cells": [
  {
   "cell_type": "code",
   "execution_count": 1,
   "metadata": {},
   "outputs": [],
   "source": [
    "%load_ext autoreload\n",
    "%autoreload 2\n",
    "%matplotlib inline"
   ]
  },
  {
   "cell_type": "code",
   "execution_count": 2,
   "metadata": {},
   "outputs": [],
   "source": [
    "import os\n",
    "import sys\n",
    "sys.path.append(\"../\")"
   ]
  },
  {
   "cell_type": "code",
   "execution_count": 42,
   "metadata": {},
   "outputs": [],
   "source": [
    "import local_config\n",
    "from MWE2019.corpus import CorpusFactory\n",
    "from MWE2019.variations import VariationFinder"
   ]
  },
  {
   "cell_type": "code",
   "execution_count": 14,
   "metadata": {},
   "outputs": [],
   "source": [
    "import pandas as pd\n",
    "import numpy as np"
   ]
  },
  {
   "cell_type": "code",
   "execution_count": 4,
   "metadata": {},
   "outputs": [],
   "source": [
    "ptt = CorpusFactory.GetPttCorpus(local_config.CORPUS_DIR + \"/PTT\")\n",
    "ctimes = CorpusFactory.GetNewsCorpus(local_config.CORPUS_DIR + \"/China_text\")\n",
    "apple = CorpusFactory.GetNewsCorpus(local_config.CORPUS_DIR + \"/Apple_text\")"
   ]
  },
  {
   "cell_type": "code",
   "execution_count": 10,
   "metadata": {},
   "outputs": [],
   "source": [
    "# Sample pattern variations\n",
    "def build_ngram4_dframe():\n",
    "    ngram4 = pd.read_csv(\"../resources/ngram_4.csv\")\n",
    "    ngram4[\"insertion\"] = np.nan\n",
    "    ngram4[\"substitution\"] = np.nan\n",
    "    ngram4[\"deletion\"] = np.nan\n",
    "    return ngram4"
   ]
  },
  {
   "cell_type": "code",
   "execution_count": 15,
   "metadata": {},
   "outputs": [],
   "source": [
    "NGRAM4_DFRAME_PATH = \"../data/ngram4_variation.csv\"\n",
    "if os.path.exists(NGRAM4_DFRAME_PATH):\n",
    "    ngram4 = pd.read_csv(NGRAM4_DFRAME_PATH)\n",
    "else:\n",
    "    ngram4 = build_ngram4_dframe()"
   ]
  },
  {
   "cell_type": "code",
   "execution_count": 16,
   "metadata": {},
   "outputs": [
    {
     "data": {
      "text/html": [
       "<div>\n",
       "<style scoped>\n",
       "    .dataframe tbody tr th:only-of-type {\n",
       "        vertical-align: middle;\n",
       "    }\n",
       "\n",
       "    .dataframe tbody tr th {\n",
       "        vertical-align: top;\n",
       "    }\n",
       "\n",
       "    .dataframe thead th {\n",
       "        text-align: right;\n",
       "    }\n",
       "</style>\n",
       "<table border=\"1\" class=\"dataframe\">\n",
       "  <thead>\n",
       "    <tr style=\"text-align: right;\">\n",
       "      <th></th>\n",
       "      <th>ngram</th>\n",
       "      <th>freq</th>\n",
       "      <th>insertion</th>\n",
       "      <th>substitution</th>\n",
       "      <th>deletion</th>\n",
       "    </tr>\n",
       "  </thead>\n",
       "  <tbody>\n",
       "    <tr>\n",
       "      <th>0</th>\n",
       "      <td>台北報導</td>\n",
       "      <td>206875</td>\n",
       "      <td>NaN</td>\n",
       "      <td>NaN</td>\n",
       "      <td>NaN</td>\n",
       "    </tr>\n",
       "    <tr>\n",
       "      <th>1</th>\n",
       "      <td>資料來源</td>\n",
       "      <td>121438</td>\n",
       "      <td>NaN</td>\n",
       "      <td>NaN</td>\n",
       "      <td>NaN</td>\n",
       "    </tr>\n",
       "    <tr>\n",
       "      <th>2</th>\n",
       "      <td>綜合報導</td>\n",
       "      <td>112063</td>\n",
       "      <td>NaN</td>\n",
       "      <td>NaN</td>\n",
       "      <td>NaN</td>\n",
       "    </tr>\n",
       "    <tr>\n",
       "      <th>3</th>\n",
       "      <td>中華民國</td>\n",
       "      <td>58360</td>\n",
       "      <td>NaN</td>\n",
       "      <td>NaN</td>\n",
       "      <td>NaN</td>\n",
       "    </tr>\n",
       "    <tr>\n",
       "      <th>4</th>\n",
       "      <td>最重要的</td>\n",
       "      <td>35402</td>\n",
       "      <td>NaN</td>\n",
       "      <td>NaN</td>\n",
       "      <td>NaN</td>\n",
       "    </tr>\n",
       "  </tbody>\n",
       "</table>\n",
       "</div>"
      ],
      "text/plain": [
       "  ngram    freq  insertion  substitution  deletion\n",
       "0  台北報導  206875        NaN           NaN       NaN\n",
       "1  資料來源  121438        NaN           NaN       NaN\n",
       "2  綜合報導  112063        NaN           NaN       NaN\n",
       "3  中華民國   58360        NaN           NaN       NaN\n",
       "4  最重要的   35402        NaN           NaN       NaN"
      ]
     },
     "execution_count": 16,
     "metadata": {},
     "output_type": "execute_result"
    }
   ],
   "source": [
    "ngram4.head()"
   ]
  },
  {
   "cell_type": "markdown",
   "metadata": {},
   "source": [
    "## i. prepare sampling buffer"
   ]
  },
  {
   "cell_type": "code",
   "execution_count": 21,
   "metadata": {},
   "outputs": [],
   "source": [
    "\n",
    "SAMPLE_RATE = 0.01\n",
    "np.random.seed(21563)\n",
    "rand_vec = np.random.random(ngram4.shape[0])\n",
    "samples = []\n",
    "for rnd, (ridx, row) in zip(rand_vec, ngram4.iterrows()):\n",
    "    if rnd < SAMPLE_RATE:\n",
    "        samples.append((ridx, row.ngram))"
   ]
  },
  {
   "cell_type": "code",
   "execution_count": 22,
   "metadata": {},
   "outputs": [
    {
     "data": {
      "text/plain": [
       "3268"
      ]
     },
     "execution_count": 22,
     "metadata": {},
     "output_type": "execute_result"
    }
   ],
   "source": [
    "len(samples)"
   ]
  },
  {
   "cell_type": "code",
   "execution_count": 23,
   "metadata": {},
   "outputs": [
    {
     "data": {
      "text/plain": [
       "[(2, '綜合報導'),\n",
       " (55, '民進黨立'),\n",
       " (240, '採訪整理'),\n",
       " (288, '會總幹事'),\n",
       " (302, '台大醫院'),\n",
       " (438, '區行愛路'),\n",
       " (509, '台北市立'),\n",
       " (539, '華民國的'),\n",
       " (692, '市長胡志'),\n",
       " (883, '今年五月')]"
      ]
     },
     "execution_count": 23,
     "metadata": {},
     "output_type": "execute_result"
    }
   ],
   "source": [
    "samples[:10]"
   ]
  },
  {
   "cell_type": "markdown",
   "metadata": {},
   "source": [
    "## ii. compute variation in sample buffer"
   ]
  },
  {
   "cell_type": "code",
   "execution_count": 92,
   "metadata": {},
   "outputs": [
    {
     "name": "stdout",
     "output_type": "stream",
     "text": [
      "pre-compiling variation patterns\n"
     ]
    },
    {
     "data": {
      "application/vnd.jupyter.widget-view+json": {
       "model_id": "fda46dd40d994c00b5a01c159ac8e1b3",
       "version_major": 2,
       "version_minor": 0
      },
      "text/plain": [
       "HBox(children=(IntProgress(value=0, max=3268), HTML(value='')))"
      ]
     },
     "metadata": {},
     "output_type": "display_data"
    }
   ],
   "source": [
    "var_sample = VariationFinder(samples)"
   ]
  },
  {
   "cell_type": "code",
   "execution_count": 93,
   "metadata": {},
   "outputs": [
    {
     "data": {
      "text/plain": [
       "[('sub', re.compile(r'綜[㐀-\\u9fff]報導', re.UNICODE)),\n",
       " ('del', re.compile(r'綜報導', re.UNICODE)),\n",
       " ('sub', re.compile(r'綜合[㐀-\\u9fff]導', re.UNICODE)),\n",
       " ('del', re.compile(r'綜合導', re.UNICODE)),\n",
       " ('ins', re.compile(r'綜.{,10}?合.{,10}?報.{,10}?導', re.UNICODE))]"
      ]
     },
     "execution_count": 93,
     "metadata": {},
     "output_type": "execute_result"
    }
   ],
   "source": [
    "var_sample.sample_patterns[0]"
   ]
  },
  {
   "cell_type": "code",
   "execution_count": 101,
   "metadata": {},
   "outputs": [
    {
     "data": {
      "application/vnd.jupyter.widget-view+json": {
       "model_id": "67d35ca48ec14ef5aa2732b052a037ca",
       "version_major": 2,
       "version_minor": 0
      },
      "text/plain": [
       "HBox(children=(IntProgress(value=0, max=1), HTML(value='')))"
      ]
     },
     "metadata": {},
     "output_type": "display_data"
    },
    {
     "data": {
      "text/plain": [
       "((2, '綜合報導'), {'ins': 2, 'del': 1, 'sub': 1})"
      ]
     },
     "execution_count": 101,
     "metadata": {},
     "output_type": "execute_result"
    }
   ],
   "source": [
    "dummy_article1 = [0, \"sa\", \"綜報導，綜合上述報導，綜和報導，綜合報導\"]\n",
    "var_sample.variation_results = {}\n",
    "next(iter(var_sample.search_in_corpus([dummy_article1]).items()))"
   ]
  },
  {
   "cell_type": "code",
   "execution_count": 102,
   "metadata": {},
   "outputs": [],
   "source": [
    "# reset the results buffer\n",
    "var_sample.variation_results = {}"
   ]
  },
  {
   "cell_type": "markdown",
   "metadata": {},
   "source": [
    "## iterate over apple articles"
   ]
  },
  {
   "cell_type": "code",
   "execution_count": 59,
   "metadata": {},
   "outputs": [],
   "source": [
    "apple_articles = list(apple.articles())"
   ]
  },
  {
   "cell_type": "code",
   "execution_count": null,
   "metadata": {},
   "outputs": [
    {
     "data": {
      "application/vnd.jupyter.widget-view+json": {
       "model_id": "27ef5cf7966f4989a16f87b0ab67f977",
       "version_major": 2,
       "version_minor": 0
      },
      "text/plain": [
       "HBox(children=(IntProgress(value=0, max=753498), HTML(value='')))"
      ]
     },
     "metadata": {},
     "output_type": "display_data"
    }
   ],
   "source": [
    "result_buf = var_sample.search_in_corpus(apple_articles)"
   ]
  },
  {
   "cell_type": "code",
   "execution_count": null,
   "metadata": {},
   "outputs": [],
   "source": [
    "del apple_articles"
   ]
  },
  {
   "cell_type": "code",
   "execution_count": 71,
   "metadata": {},
   "outputs": [
    {
     "data": {
      "text/plain": [
       "['abc']"
      ]
     },
     "execution_count": 71,
     "metadata": {},
     "output_type": "execute_result"
    }
   ],
   "source": [
    "import re\n",
    "re.findall(\"abc|def\", \"abcde\")"
   ]
  },
  {
   "cell_type": "code",
   "execution_count": 83,
   "metadata": {},
   "outputs": [
    {
     "name": "stdout",
     "output_type": "stream",
     "text": [
      "((2, '綜合報導'), {'ins': 138, 'del': 0, 'sub': 105})\n",
      "((55, '民進黨立'), {'ins': 11, 'del': 137, 'sub': 136})\n",
      "((240, '採訪整理'), {'ins': 34, 'del': 0, 'sub': 34})\n",
      "((288, '會總幹事'), {'ins': 3, 'del': 1, 'sub': 4})\n",
      "((302, '台大醫院'), {'ins': 10, 'del': 13, 'sub': 23})\n",
      "((438, '區行愛路'), {'ins': 2, 'del': 1, 'sub': 1})\n",
      "((509, '台北市立'), {'ins': 13, 'del': 100, 'sub': 107})\n",
      "((539, '華民國的'), {'ins': 15, 'del': 43, 'sub': 43})\n",
      "((692, '市長胡志'), {'ins': 1, 'del': 1, 'sub': 2})\n",
      "((883, '今年五月'), {'ins': 1, 'del': 48, 'sub': 17})\n",
      "((955, '國家利益'), {'ins': 2, 'del': 0, 'sub': 1})\n",
      "((1015, '九十三年'), {'ins': 0, 'del': 1, 'sub': 0})\n",
      "((1250, '因為台灣'), {'ins': 9, 'del': 20, 'sub': 19})\n",
      "((1281, '這麼大的'), {'ins': 6, 'del': 16, 'sub': 14})\n",
      "((1296, '大自然的'), {'ins': 5, 'del': 9, 'sub': 10})\n",
      "((1381, '大專院校'), {'ins': 0, 'del': 0, 'sub': 0})\n",
      "((1533, '一定程度'), {'ins': 1, 'del': 1, 'sub': 2})\n",
      "((1576, '往嘗過之'), {'ins': 1, 'del': 0, 'sub': 1})\n",
      "((1715, '不是這樣'), {'ins': 9, 'del': 24, 'sub': 25})\n",
      "((1763, '不同意見'), {'ins': 0, 'del': 4, 'sub': 3})\n",
      "((1924, '是不錯的'), {'ins': 11, 'del': 28, 'sub': 30})\n",
      "((2164, '不受影響'), {'ins': 5, 'del': 21, 'sub': 22})\n",
      "((2211, '值得肯定'), {'ins': 1, 'del': 1, 'sub': 1})\n",
      "((2326, '社會秩序'), {'ins': 5, 'del': 0, 'sub': 4})\n",
      "((2386, '隨心所欲'), {'ins': 1, 'del': 0, 'sub': 1})\n",
      "((2410, '上下其手'), {'ins': 1, 'del': 0, 'sub': 1})\n",
      "((2440, '立圖書館'), {'ins': 0, 'del': 2, 'sub': 2})\n",
      "((2460, '可能是因'), {'ins': 6, 'del': 33, 'sub': 33})\n",
      "((2603, '其實都是'), {'ins': 5, 'del': 9, 'sub': 11})\n",
      "((2751, '漸行漸遠'), {'ins': 1, 'del': 0, 'sub': 1})\n",
      "((2804, '亞洲國家'), {'ins': 0, 'del': 3, 'sub': 3})\n",
      "((2954, '不願具名'), {'ins': 3, 'del': 0, 'sub': 3})\n",
      "((2973, '議委員會'), {'ins': 0, 'del': 30, 'sub': 29})\n",
      "((2989, '在總統府'), {'ins': 2, 'del': 37, 'sub': 23})\n",
      "((3055, '不公平的'), {'ins': 7, 'del': 19, 'sub': 6})\n",
      "((3323, '願意接受'), {'ins': 2, 'del': 2, 'sub': 4})\n",
      "((3383, '的小女孩'), {'ins': 7, 'del': 10, 'sub': 15})\n",
      "((3598, '分鐘車程'), {'ins': 0, 'del': 0, 'sub': 0})\n",
      "((3691, '智慧財產'), {'ins': 0, 'del': 1, 'sub': 1})\n",
      "((3867, '就職演說'), {'ins': 2, 'del': 0, 'sub': 2})\n",
      "((4102, '一至周五'), {'ins': 3, 'del': 1, 'sub': 4})\n",
      "((4429, '資訊特區'), {'ins': 0, 'del': 0, 'sub': 0})\n",
      "((4604, '也很重要'), {'ins': 5, 'del': 18, 'sub': 19})\n",
      "((4615, '可能不會'), {'ins': 5, 'del': 10, 'sub': 10})\n",
      "((4727, '緣木求魚'), {'ins': 3, 'del': 0, 'sub': 3})\n",
      "((5230, '無中生有'), {'ins': 1, 'del': 0, 'sub': 1})\n",
      "((5935, '的年輕女'), {'ins': 10, 'del': 16, 'sub': 23})\n",
      "((5936, '覺得很有'), {'ins': 5, 'del': 20, 'sub': 19})\n",
      "((5997, '入監服刑'), {'ins': 2, 'del': 1, 'sub': 3})\n",
      "((6187, '一目了然'), {'ins': 1, 'del': 0, 'sub': 1})\n",
      "((6344, '出現問題'), {'ins': 7, 'del': 7, 'sub': 12})\n",
      "((6381, '在西門町'), {'ins': 1, 'del': 5, 'sub': 4})\n",
      "((6401, '鄉民代表'), {'ins': 1, 'del': 5, 'sub': 5})\n",
      "((6453, '透過各種'), {'ins': 2, 'del': 3, 'sub': 4})\n",
      "((6800, '三百五十'), {'ins': 3, 'del': 17, 'sub': 17})\n",
      "((6806, '三番兩次'), {'ins': 0, 'del': 0, 'sub': 0})\n",
      "((6825, '只剩下一'), {'ins': 0, 'del': 1, 'sub': 1})\n",
      "((6859, '六十萬元'), {'ins': 6, 'del': 34, 'sub': 36})\n",
      "((6906, '還有一種'), {'ins': 0, 'del': 21, 'sub': 21})\n",
      "((6943, '指揮中心'), {'ins': 3, 'del': 0, 'sub': 2})\n",
      "((7190, '會忍不住'), {'ins': 0, 'del': 28, 'sub': 21})\n",
      "((7442, '任何事情'), {'ins': 4, 'del': 4, 'sub': 5})\n",
      "((7511, '可以達到'), {'ins': 0, 'del': 13, 'sub': 13})\n",
      "((7548, '不要忘記'), {'ins': 0, 'del': 3, 'sub': 3})\n",
      "((7574, '公諸於世'), {'ins': 2, 'del': 1, 'sub': 3})\n",
      "((7617, '上了年紀'), {'ins': 0, 'del': 0, 'sub': 0})\n",
      "((7671, '發展中心'), {'ins': 3, 'del': 1, 'sub': 2})\n",
      "((7704, '機妙算劉'), {'ins': 0, 'del': 1, 'sub': 1})\n",
      "((7799, '工作關係'), {'ins': 7, 'del': 4, 'sub': 5})\n",
      "((7808, '立方公尺'), {'ins': 0, 'del': 2, 'sub': 2})\n",
      "((7825, '二十四日'), {'ins': 0, 'del': 21, 'sub': 21})\n",
      "((7869, '在法律上'), {'ins': 0, 'del': 7, 'sub': 7})\n",
      "((7883, '專欄特別'), {'ins': 0, 'del': 0, 'sub': 0})\n",
      "((7895, '代表的是'), {'ins': 2, 'del': 6, 'sub': 6})\n",
      "((7901, '最後一面'), {'ins': 0, 'del': 38, 'sub': 38})\n",
      "((7920, '是錯誤的'), {'ins': 0, 'del': 4, 'sub': 4})\n",
      "((8034, '歡迎您來'), {'ins': 0, 'del': 2, 'sub': 2})\n",
      "((8353, '平面車位'), {'ins': 4, 'del': 0, 'sub': 4})\n",
      "((8543, '杯水車薪'), {'ins': 0, 'del': 0, 'sub': 0})\n",
      "((8548, '最佳新人'), {'ins': 1, 'del': 5, 'sub': 3})\n",
      "((8742, '苦苦哀求'), {'ins': 1, 'del': 1, 'sub': 1})\n",
      "((8804, '灣最大的'), {'ins': 5, 'del': 32, 'sub': 29})\n",
      "((8951, '領導能力'), {'ins': 3, 'del': 0, 'sub': 2})\n",
      "((9109, '年久失修'), {'ins': 1, 'del': 0, 'sub': 1})\n",
      "((9138, '我們一直'), {'ins': 4, 'del': 28, 'sub': 29})\n",
      "((9189, '到周三刊'), {'ins': 1, 'del': 0, 'sub': 1})\n",
      "((9223, '承審法官'), {'ins': 2, 'del': 3, 'sub': 5})\n",
      "((9341, '所剩無幾'), {'ins': 1, 'del': 0, 'sub': 1})\n",
      "((9474, '總統昨天'), {'ins': 4, 'del': 9, 'sub': 11})\n",
      "((9576, '港朝天宮'), {'ins': 0, 'del': 0, 'sub': 0})\n",
      "((9867, '不是真正'), {'ins': 2, 'del': 10, 'sub': 10})\n",
      "((9953, '任總經理'), {'ins': 6, 'del': 52, 'sub': 45})\n",
      "((10006, '學校附近'), {'ins': 1, 'del': 1, 'sub': 2})\n",
      "((10063, '中文大學'), {'ins': 2, 'del': 11, 'sub': 11})\n",
      "((10138, '有過之而'), {'ins': 1, 'del': 0, 'sub': 1})\n",
      "((10200, '過之而無'), {'ins': 1, 'del': 0, 'sub': 1})\n",
      "((10387, '這樣的說'), {'ins': 5, 'del': 79, 'sub': 79})\n",
      "((10433, '他的母親'), {'ins': 7, 'del': 25, 'sub': 24})\n",
      "((10471, '每坪單價'), {'ins': 0, 'del': 0, 'sub': 0})\n",
      "((10500, '大勢所趨'), {'ins': 0, 'del': 0, 'sub': 0})\n"
     ]
    }
   ],
   "source": [
    "it = iter(var_sample.variation_results.items())\n",
    "for _ in range(100):\n",
    "    print(next(it))"
   ]
  },
  {
   "cell_type": "code",
   "execution_count": null,
   "metadata": {},
   "outputs": [],
   "source": []
  }
 ],
 "metadata": {
  "kernelspec": {
   "display_name": "Python 3",
   "language": "python",
   "name": "python3"
  },
  "language_info": {
   "codemirror_mode": {
    "name": "ipython",
    "version": 3
   },
   "file_extension": ".py",
   "mimetype": "text/x-python",
   "name": "python",
   "nbconvert_exporter": "python",
   "pygments_lexer": "ipython3",
   "version": "3.7.2"
  }
 },
 "nbformat": 4,
 "nbformat_minor": 2
}
