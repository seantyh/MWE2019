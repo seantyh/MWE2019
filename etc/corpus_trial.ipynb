{
 "cells": [
  {
   "cell_type": "code",
   "execution_count": 1,
   "metadata": {},
   "outputs": [],
   "source": [
    "%load_ext autoreload\n",
    "%autoreload 2\n",
    "%matplotlib inline"
   ]
  },
  {
   "cell_type": "code",
   "execution_count": 2,
   "metadata": {},
   "outputs": [],
   "source": [
    "import sys\n",
    "sys.path.append(\"../\")"
   ]
  },
  {
   "cell_type": "code",
   "execution_count": 5,
   "metadata": {},
   "outputs": [],
   "source": [
    "import local_config\n",
    "from MWE2019.corpus import CorpusFactory"
   ]
  },
  {
   "cell_type": "code",
   "execution_count": 45,
   "metadata": {},
   "outputs": [],
   "source": [
    "def describe_corpus(carts):\n",
    "    n_articles = 0\n",
    "    n_chars = 0\n",
    "    for x in carts:\n",
    "        n_articles += 1\n",
    "        n_chars += len(x[2])\n",
    "    print(f\"n_articles:{n_articles}, n_chars: {n_chars}\")"
   ]
  },
  {
   "cell_type": "code",
   "execution_count": 24,
   "metadata": {},
   "outputs": [],
   "source": [
    "ptt = CorpusFactory.GetPttCorpus(local_config.CORPUS_DIR + \"/PTT\")"
   ]
  },
  {
   "cell_type": "code",
   "execution_count": 29,
   "metadata": {},
   "outputs": [
    {
     "data": {
      "text/plain": [
       "(0,\n",
       " 'AllTogether10.txt',\n",
       " '這是我第一次在歐兔發文在第一次就要發出強烈的閃光文XD在去年的一月我第一次開始上歐兔也是在這個時候讓我遇到了我們家最可愛最美麗的小寶貝橘子她的PO的徵友文其實和一般的沒有什麼不同但是就因為她是高雄人讓我有了想跟他認識的FEEL我和我們家的小寶貝由簡單的幾顆水球到MSN的長篇大論從一開始的聊天打屁到每天的關心和想念(中間的過程有很多很有趣也很令人回味的就不在這多說了)終於在某一天的電話中我們流淚互相跟對方傾訴彼此心中的喜歡和想法那是我們第一次知道彼此很喜歡對方過了三個多禮拜在去年西洋情人節的時候我和他見了第一次的面見到她的時候讓我感覺就是她了在隔天我約了她一起去旗津走走到海邊踏沙的時候有點擔心她會跌倒也有點故意的將她的手牽了起來沒想到.....這一牽就將我們兩個的未來也一起牽了起來從認識那天到現在即將跨過我倆的第一年這段時間裡有快樂有歡笑有爭吵也有淚水但是我真的真的很幸福聽過我和我們家寶貝故事的朋友們都覺得很不可思議從一開始互相覺得不會在一起的兩個人到成為閃光後的甜蜜這一切一切都是因為有歐兔大神的幫忙讓我們有了認識的緣分和機會我真的很感謝萬能的歐兔大神使我和我們家最可愛最美麗的小寶貝相遇讓我們兩個可以從相遇、相知、相惜甚至到兩人一起牽手走向未來最後我想告訴我最親愛的小寶貝不管未來我們會遇到多少的艱難跟困苦嚐過多少的甜蜜和幸福我都會緊緊的握住你的手和你一起走下去讓我們就這麼永遠的幸福下去橘子小寶貝我愛你祝大家可以在歐兔找到專屬於你們的幸福我可以你們也可以的\\r\\n')"
      ]
     },
     "execution_count": 29,
     "metadata": {},
     "output_type": "execute_result"
    }
   ],
   "source": [
    "next(ptt.articles())"
   ]
  },
  {
   "cell_type": "code",
   "execution_count": 46,
   "metadata": {},
   "outputs": [
    {
     "name": "stdout",
     "output_type": "stream",
     "text": [
      "n_articles:117550, n_chars: 64171168\n"
     ]
    }
   ],
   "source": [
    "describe_corpus(ptt.articles())"
   ]
  },
  {
   "cell_type": "code",
   "execution_count": 41,
   "metadata": {},
   "outputs": [],
   "source": [
    "ctimes = CorpusFactory.GetNewsCorpus(local_config.CORPUS_DIR + \"/China_text\")"
   ]
  },
  {
   "cell_type": "code",
   "execution_count": 42,
   "metadata": {},
   "outputs": [
    {
     "data": {
      "text/plain": [
       "(0,\n",
       " '0_China.txt',\n",
       " '那些被反對的戀情啊 婚姻就沒有愛了啊(才不是)，那時才想起親友家人的反對已北呼，心凌妳就得天天跟著元浩去衝浪，把白皙的皮膚曬成黑媽媽……  2016/03/06\\r\\n【宅女小紅(羞昂)】\\u3000\\u3000再不著床就要變成高齡產婦的中年女子；一天不講垃圾話會暴斃的心酸OL。\\u3000\\u3000江湖盛傳有「胯跨界天后」之封號。\\u3000\\u3000宅女小紅部落格：showon.cc\\u3000\\u3000有天亂逛網路看到一個新聞大標寫「養得起王心凌？姚元浩被爆提親結果…」這麼八卦的事自然會引起八婆注意，雖然縮干我屁事但好想知道他提親提得如何啊(轉手指)。結果新聞上說提親現場氣氛凝重，姚提出婚事時王家人聽到都相當冷談，姚出來後臉色也不太好，看到這兒大家是否有個疑問，啊你是躲在提親現場桌子底下逆。\\u3000\\u3000姚元浩提親王心凌家人給臉色\\u3000\\u3000而且報導不是只報了這些表像的事，還進一步的說明為什麼姚不受王家人歡迎，彷彿筆者是王家的堂姊或表妹他什麼都知道。上面說姚的工作不理想意指他收入沒女友高吧，賺沒女方多就算了興趣還偏偏都很高檔，比如衝浪露營賽車等，還說光是一台露營車就要400萬，然後會賺錢又不愛出門的王心凌卻要為了愛從事自己不喜歡的戶外活動，這點更讓家人心疼所以才會反對。\\u3000\\u3000娶某得有錢晚婚不是沒有理由\\u3000\\u3000說到家人反對的戀情，我目前聽過的好像都是經濟方面被反對，也就是縮覺得男生賺得不多啦，說到這，之前有個朋友在問為什麼台灣人普遍超晚婚，很多都30來歲快40才結，我想了一下猜測因為台灣人不喜歡把女兒嫁給經濟基礎不夠的人吧，就是會希望男生有房有車什麼的，而男人除非家裡有點兒錢父母可幫助，不然要自己賺到車子房子不容易，拼個幾年一晃眼就快40了，所以無法早婚(吧)。\\u3000\\u3000有情飲水飽愛情總讓人昏了頭\\u3000\\u3000回到家人反對上(跳一下)，通常不就是為錢反嗎，不然就是有什麼特別讓人髮指的習慣，比如打人吸毒或愛踹流浪狗什麼的，竟然可以連男生熱愛出去玩女生喜歡待在家，這麼輕微的事都要拿來心疼女兒，這一聽就很牽拖啊。\\u3000\\u3000電視機前的你想法應該跟我一樣吧，錯，這是一個陷阱，今時今日的我根本覺得家人的反對很有道理，怎麼說呢，女人就是個最容易被愛沖昏頭的生物，熱戀時候樣樣好，不修邊幅生性胎割是率性而為不拘小節，愛亂花錢是海派一毛不拔是有節儉美德；同樣的男人也是一樣，會把水餃墊當真奶把公主病當可愛的小任性，反正熱戀期是有情飲水飽，他放的屁雖然不香但很怡人，這就是濃得化不開的L．O．威．E啊∼我也是在每段戀情逝去該難過的都難過完後，會驚覺天哪那人明明個性很差長得很怪跟我超不合，然後打給朋友問她們說那個誰誰誰是不是其實很不對勁兒，朋友才會鬆了一口氣的告訴我，那人真的超有事，妳怎麼都看不出來，啊我就是被愛蒙蔽了咩。\\u3000\\u3000親友黑臉話思考一輪才能忘掉\\u3000\\u3000然而進入婚姻就沒有愛了啊(才不是)，那時才想起親友家人的反對已北呼，心凌妳就得天天跟著元浩去衝浪，把白皙的皮膚曬成黑媽媽，終於夏天過了想縮哦耶不用衝你個鬼浪了(心凌才不會說這種話！)，元浩可能會縮寶貝兒明天去露營吧，在野外挖洞埋屎的摸們(有一種深度的露營是主張全自然不能有廁所的，我甚至聽過不能帶衛生紙的呢)，可能會情緒崩潰對著樹洞(或自己挖出來的屎洞)大喊媽女兒錯了我不該不聽您的話，這個故事是否很警世？所以親友的勸要放心上，也許不用全聽，但冷靜下來時要想過一輪，有可能突破自己的盲點的。\\u3000\\u3000還有另一件事，就是記者是亂寫的吧，人家的家務事和心中事你又知道了，是王媽肚子裡的蛔蟲逆。\\r\\n')"
      ]
     },
     "execution_count": 42,
     "metadata": {},
     "output_type": "execute_result"
    }
   ],
   "source": [
    "next(ctimes.articles())"
   ]
  },
  {
   "cell_type": "code",
   "execution_count": 47,
   "metadata": {},
   "outputs": [
    {
     "name": "stdout",
     "output_type": "stream",
     "text": [
      "n_articles:739960, n_chars: 643787853\n"
     ]
    }
   ],
   "source": [
    "describe_corpus(ctimes.articles())"
   ]
  },
  {
   "cell_type": "code",
   "execution_count": 48,
   "metadata": {},
   "outputs": [],
   "source": [
    "apple = CorpusFactory.GetNewsCorpus(local_config.CORPUS_DIR + \"/Apple_text\")"
   ]
  },
  {
   "cell_type": "code",
   "execution_count": 49,
   "metadata": {},
   "outputs": [
    {
     "data": {
      "text/plain": [
       "(0,\n",
       " '0_Apple.txt',\n",
       " '同黨大老 布希父子拒挺川普 20160506\\r\\n2016美國大選【張翠蘭╱綜合外電報導】美國共和黨總統參選人川普，前天成為黨內唯一參選人，篤定在7月全國黨代表大會獲提名，料將在11月8日登場的總統大選，與民主黨聲勢領先的參選人希拉蕊爭鋒。川普奇蹟般擊退16名政治菁英對手，砸碎一堆專家招牌與信譽，但他接下來嚴峻挑戰是團結已分崩離析的黨，同黨籍前總統老布希與布希已表明不挺他。俄亥俄州州長凱西克（John Kasich）前天宣布退出爭取2016年總統大選提名戰，讓已是贏面最大的地產大亨川普（Donald Trump），成為爭逐共和黨白宮選戰的唯一人選。\\r川普昨對美國的經濟未來闡明更多想法，稱一旦上台，將取消令美國企業主負擔沉重的大量聯邦規範，並支持低利率，還說聯準會（Fed）主席葉倫（Janet Yellen）任滿後想換掉她。但川普再度惹毛音樂人，英國國寶級樂團「滾石」前天指未允許川普陣營播放該樂團歌曲，要求立即停止。英國歌后愛黛兒、美國搖滾樂團「史密斯飛船」與音樂創作人尼爾楊等也曾痛批歌曲被川普陣營擅自使用。去年6月川普宣布參選，許多政治分析家都嘲諷其胡言亂語，很快會出局，結果他卻一路領先，共和黨大老意欲阻擋也無功而返。69歲的川普堪稱近代最不受黨內歡迎的總統參選人，不過他前天矢言將團結共和黨，凝聚黨員，稱「選總統，不是要讓國家動盪」，盼化解對其執政的疑慮。\\r川普開始談及副手人選，希望「有政治經驗」，傳聞人選包括重要搖擺州俄州聯邦參議員波特曼及南卡羅來納州州長海利；但海利旋即表明沒興趣。川普也曾說可能考慮曾任議員、協助過平衡聯邦預算的凱西克當副手。共和黨內對川普出線看法不一，2008年代表共和黨參選但落敗的參議員麥肯願挺川普，但前總統布希聲明不參與或評論大選，他也當過總統的父親老布希稱：「已高齡91歲，早退出政治」，是老布希近5次總統大選首度不挺黨內候選人。有些黨員暗示不惜一切、甚至投給希拉蕊，也要阻斷川普的總統夢。\\r美國有線電視新聞網（CNN）最新民調，希拉蕊將以54%支持率，勝過川普的41%。希拉蕊前天砲轟川普是不定時炸彈，稱美國不應冒險，把國家交給像川普這樣不能信賴的候選人，敦促他講清楚政策願景和理念。\\r隨興發言：想到什麼就說什麼，誇大辛辣，支持者就愛這套。他拒絕政治正確性，辱罵對手、評論家、女性及穆斯林等，甚至直言想打抗議者一毛不拔：初選陣營只用基本人力，未聘全國競選財務主管，官網有捐款網頁也辦義賣，但從未辦大型募款活動不做民調：不像其他參選人動輒砸大錢調查選民的支持度，川普只看媒體或民意機構的數據政見模糊：參選人總愛拋出政見或高遠志向，但他不提詳細政見，例如「美國優先、受惠盟國應埋單」外交政策，就讓敵人摸不清美國意圖，因他主張美方應讓外界難以預測資料來源：美聯社\\r\\r\\n')"
      ]
     },
     "execution_count": 49,
     "metadata": {},
     "output_type": "execute_result"
    }
   ],
   "source": [
    "next(apple.articles())"
   ]
  },
  {
   "cell_type": "code",
   "execution_count": 50,
   "metadata": {},
   "outputs": [
    {
     "name": "stdout",
     "output_type": "stream",
     "text": [
      "n_articles:753498, n_chars: 669025146\n"
     ]
    }
   ],
   "source": [
    "describe_corpus(apple.articles())"
   ]
  },
  {
   "cell_type": "code",
   "execution_count": 52,
   "metadata": {},
   "outputs": [],
   "source": [
    "apple_texts = list(apple.articles())"
   ]
  },
  {
   "cell_type": "code",
   "execution_count": 54,
   "metadata": {},
   "outputs": [
    {
     "data": {
      "application/vnd.jupyter.widget-view+json": {
       "model_id": "c0883cd90ced47f897cfc992f4bc863d",
       "version_major": 2,
       "version_minor": 0
      },
      "text/plain": [
       "HBox(children=(IntProgress(value=0, max=753498), HTML(value='')))"
      ]
     },
     "metadata": {},
     "output_type": "display_data"
    },
    {
     "name": "stdout",
     "output_type": "stream",
     "text": [
      "\n"
     ]
    }
   ],
   "source": [
    "from tqdm import tqdm_notebook as tqdm\n",
    "from collections import Counter\n",
    "char_freq = Counter()\n",
    "for i, f, text in tqdm(apple_texts):\n",
    "    char_freq.update(text)"
   ]
  },
  {
   "cell_type": "code",
   "execution_count": 55,
   "metadata": {},
   "outputs": [
    {
     "data": {
      "text/plain": [
       "[('，', 33648726),\n",
       " ('的', 13528629),\n",
       " ('。', 9566878),\n",
       " ('0', 7065710),\n",
       " ('\\r', 5964016),\n",
       " ('不', 5837111),\n",
       " ('1', 5060649),\n",
       " ('是', 5051997),\n",
       " ('、', 4937819),\n",
       " ('人', 4695850),\n",
       " (' ', 4655496),\n",
       " ('一', 4646869),\n",
       " ('2', 4585381),\n",
       " ('有', 4264285),\n",
       " ('在', 3875432),\n",
       " ('「', 3674121),\n",
       " ('」', 3673046),\n",
       " ('：', 3350603),\n",
       " ('大', 3220759),\n",
       " ('年', 2868021)]"
      ]
     },
     "execution_count": 55,
     "metadata": {},
     "output_type": "execute_result"
    }
   ],
   "source": [
    "char_freq.most_common(20)"
   ]
  },
  {
   "cell_type": "code",
   "execution_count": 56,
   "metadata": {},
   "outputs": [],
   "source": []
  },
  {
   "cell_type": "code",
   "execution_count": null,
   "metadata": {},
   "outputs": [],
   "source": []
  }
 ],
 "metadata": {
  "kernelspec": {
   "display_name": "Python 3",
   "language": "python",
   "name": "python3"
  },
  "language_info": {
   "codemirror_mode": {
    "name": "ipython",
    "version": 3
   },
   "file_extension": ".py",
   "mimetype": "text/x-python",
   "name": "python",
   "nbconvert_exporter": "python",
   "pygments_lexer": "ipython3",
   "version": "3.7.0"
  }
 },
 "nbformat": 4,
 "nbformat_minor": 2
}
