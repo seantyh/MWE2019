{
 "cells": [
  {
   "cell_type": "markdown",
   "metadata": {},
   "source": [
    "# Materials"
   ]
  },
  {
   "cell_type": "code",
   "execution_count": 1,
   "metadata": {},
   "outputs": [],
   "source": [
    "%load_ext autoreload\n",
    "%autoreload 2\n",
    "%matplotlib inline\n",
    "import sys\n",
    "sys.path.append(\"../\")"
   ]
  },
  {
   "cell_type": "code",
   "execution_count": 2,
   "metadata": {},
   "outputs": [],
   "source": [
    "from IPython.display import Markdown"
   ]
  },
  {
   "cell_type": "code",
   "execution_count": 3,
   "metadata": {},
   "outputs": [],
   "source": [
    "from MWE2019.utils import tqdm\n",
    "from MWE2019.materials import Materials"
   ]
  },
  {
   "cell_type": "code",
   "execution_count": 4,
   "metadata": {},
   "outputs": [
    {
     "name": "stdout",
     "output_type": "stream",
     "text": [
      "Remove NGram frequency < 50: 3588 removed\n",
      "QIE removed: 0\n",
      "Idiom removed: 3588\n",
      "Character count before removal: 12883\n",
      "Character count after removal: 2824\n",
      "Remove character not in ngrams: 10059 removed\n",
      "load CwnNodeVec from cache:  ..\\MWE2019\\..\\data\\cache_cwn_node_vec\\cwn_node_vec_homophily.pkl\n"
     ]
    }
   ],
   "source": [
    "materials = Materials()"
   ]
  },
  {
   "cell_type": "code",
   "execution_count": 5,
   "metadata": {},
   "outputs": [
    {
     "data": {
      "text/markdown": [
       "\n",
       "## Materials of MWE2019\n",
       "### NGram list (3996 ngrams)\n",
       "  * QIE (`qies`): 2478 QIEs, e.g. 資料來源, 綜合報導, 警方調查, 主辦單位, 億元台幣 ...  \n",
       "    These QIEs are selected with high PMI (top 25%) and low enclosing frequency (top 25%), \n",
       "    and they are not idioms as defined in MOE.\n",
       "  * Idiom (`idioms`): 1518 idioms, e.g. 不可思議, 不約而同, 迫不及待, 層出不窮, 脫穎而出, ...\n",
       "  * These ngrams (QIEs and idioms) are all occured 5 or more times in 1.3 billion corpus.        \n",
       "\n",
       "### Characters \n",
       "  * There are 2824 used in all ngrams\n",
       "  * CWN contains information of 2451 character\n",
       "  * Number of characters both in CWN and used in NGrams are \n",
       "    `2451`, and\n",
       "    `373` of them are only presented in \n",
       "    ngrams but not in CWN.\n",
       "  * Some characters do not have S-vectors due to data problem, only 1983 characters have \n",
       "    valid senses and S-vectors          \n",
       "\n",
       "### Frequency\n",
       "  * NGram frequency (`ngFreq`): Frequency of QIEs and idioms in 1.3 billion corpus\n",
       "  * character frequency (`chFreq`): Frequency of those `2824` character, \n",
       "    as used by the ngrams, in the same corpus.\n",
       "\n",
       "### Vector representation\n",
       "  * Character M-Vector (Morphological Vector)  \n",
       "    computed from CWN networks with node2vec (`CwnNodeVec`), each of 2451 character \n",
       "    was mapped to a vector of length 100.\n",
       "  * Character S-Vector (Sense Vector)  \n",
       "    computed from the example sentences in CWN senses, as described in GWA2019 paper. Each of \n",
       "    2451 character was mapped to a vector of length 3072\n",
       "  * NGrams S-vector\n",
       "    computed from the sentences extracted from corpus. Each of 3988 ngram was mapped\n",
       "    to a vector of length 3072\n"
      ],
      "text/plain": [
       "<IPython.core.display.Markdown object>"
      ]
     },
     "execution_count": 5,
     "metadata": {},
     "output_type": "execute_result"
    }
   ],
   "source": [
    "Markdown(materials.describe())"
   ]
  },
  {
   "cell_type": "code",
   "execution_count": 6,
   "metadata": {},
   "outputs": [
    {
     "data": {
      "text/plain": [
       "{'05238701': array([ 1.3702985 , -0.42867818,  0.37206087, ..., -1.3290256 ,\n",
       "         0.23013055,  0.30289397], dtype=float32),\n",
       " '05238702': array([ 1.0225841 , -0.50791353,  0.14265805, ..., -0.82802534,\n",
       "         0.4293771 , -0.3263795 ], dtype=float32),\n",
       " '05238703': array([ 0.85308725, -0.30901477, -0.44316593, ..., -0.9147484 ,\n",
       "        -0.26282156, -0.12963648], dtype=float32)}"
      ]
     },
     "execution_count": 6,
     "metadata": {},
     "output_type": "execute_result"
    }
   ],
   "source": [
    "materials.charS[\"我\"]"
   ]
  },
  {
   "cell_type": "code",
   "execution_count": 7,
   "metadata": {},
   "outputs": [
    {
     "data": {
      "text/plain": [
       "array([ 1.4744961 ,  0.4337109 ,  1.4106735 , -2.2810156 ,  0.35942197,\n",
       "        0.4173864 ,  0.1422289 , -0.1577536 , -1.1994652 ,  0.55580264,\n",
       "        2.4018683 ,  0.39741367,  0.8287281 , -1.0472449 ,  0.7825135 ,\n",
       "       -0.43116054,  0.6863932 , -1.7577618 , -0.38924882, -0.9499124 ,\n",
       "        0.5906449 ,  1.3905882 , -0.07124268,  0.9719028 , -0.18468164,\n",
       "        0.47104996,  0.99415255,  0.10736081, -1.1961255 , -1.1752406 ,\n",
       "        0.43250856, -1.4576637 , -0.02280311,  0.72732574, -0.47921476,\n",
       "        0.25154743, -0.61630523, -1.1154647 ,  0.8614917 , -0.8633631 ,\n",
       "       -0.06870596,  0.23455188, -0.13793357, -0.75500125,  1.890468  ,\n",
       "       -0.12898102, -1.3052497 , -0.1247216 , -0.84704137, -1.9184508 ,\n",
       "       -1.231895  , -0.82128197, -2.1493657 ,  0.06145079,  1.2174122 ,\n",
       "        0.53087527, -0.06972771,  0.12918875, -0.5679427 , -0.9584813 ,\n",
       "       -1.1210693 ,  1.1679254 , -0.23634249,  2.3687775 ,  0.4184395 ,\n",
       "        0.39574358,  0.67770433, -0.28224826, -1.2258294 ,  0.0293142 ,\n",
       "       -0.74812645, -1.6300237 , -1.3594676 ,  0.341979  ,  0.42454624,\n",
       "        0.46557668, -1.0753183 , -0.57544523, -0.8315276 , -0.69634694,\n",
       "        0.44580653,  0.3956937 , -0.02706731,  0.48307443,  0.77824205,\n",
       "        1.0060831 ,  0.31163323,  0.05165991, -1.3757703 , -1.8138294 ,\n",
       "        0.0511225 , -0.73660576, -1.2467883 , -0.6834957 ,  0.5519621 ,\n",
       "        0.7570884 , -0.6161236 ,  0.61321104,  1.2285907 , -0.41941136],\n",
       "      dtype=float32)"
      ]
     },
     "execution_count": 7,
     "metadata": {},
     "output_type": "execute_result"
    }
   ],
   "source": [
    "materials.charM[\"我\"]"
   ]
  },
  {
   "cell_type": "code",
   "execution_count": 8,
   "metadata": {},
   "outputs": [
    {
     "data": {
      "text/plain": [
       "array([ 0.4420729 ,  0.21298479, -0.22277981, ..., -0.16774593,\n",
       "        0.169826  ,  0.62633693], dtype=float32)"
      ]
     },
     "execution_count": 8,
     "metadata": {},
     "output_type": "execute_result"
    }
   ],
   "source": [
    "materials.ngramS[\"層出不窮\"]"
   ]
  },
  {
   "cell_type": "code",
   "execution_count": 9,
   "metadata": {},
   "outputs": [
    {
     "data": {
      "text/plain": [
       "array([ 0.52642787,  0.22308645,  0.20355526, ...,  0.13169022,\n",
       "       -0.77774876,  0.3822952 ], dtype=float32)"
      ]
     },
     "execution_count": 9,
     "metadata": {},
     "output_type": "execute_result"
    }
   ],
   "source": [
    "materials.ngramS[\"主辦單位\"]"
   ]
  },
  {
   "cell_type": "code",
   "execution_count": null,
   "metadata": {},
   "outputs": [],
   "source": []
  }
 ],
 "metadata": {
  "kernelspec": {
   "display_name": "Python 3",
   "language": "python",
   "name": "python3"
  },
  "language_info": {
   "codemirror_mode": {
    "name": "ipython",
    "version": 3
   },
   "file_extension": ".py",
   "mimetype": "text/x-python",
   "name": "python",
   "nbconvert_exporter": "python",
   "pygments_lexer": "ipython3",
   "version": "3.7.2"
  }
 },
 "nbformat": 4,
 "nbformat_minor": 2
}
