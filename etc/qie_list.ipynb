{
 "cells": [
  {
   "cell_type": "markdown",
   "metadata": {},
   "source": [
    "# QieList"
   ]
  },
  {
   "cell_type": "code",
   "execution_count": 1,
   "metadata": {},
   "outputs": [],
   "source": [
    "%load_ext autoreload\n",
    "%autoreload 2\n",
    "%matplotlib inline\n",
    "import sys\n",
    "sys.path.append(\"../\")"
   ]
  },
  {
   "cell_type": "markdown",
   "metadata": {},
   "source": [
    "## Building Sampling Frame"
   ]
  },
  {
   "cell_type": "markdown",
   "metadata": {},
   "source": [
    "### Idiom List (in ngrams)"
   ]
  },
  {
   "cell_type": "code",
   "execution_count": 2,
   "metadata": {},
   "outputs": [],
   "source": [
    "import local_config\n",
    "import pickle\n",
    "from functools import partial, reduce\n",
    "import pandas as pd\n",
    "import numpy as np\n",
    "from MWE2019.materials import NGram4List, MoeIdioms\n",
    "from MWE2019.corpus import CorpusFactory\n",
    "from MWE2019.corpus_index import CorpusIndex\n",
    "from MWE2019.utils import get_cache_path, install_data_cache\n",
    "from tqdm import tqdm_notebook as tqdm"
   ]
  },
  {
   "cell_type": "code",
   "execution_count": 3,
   "metadata": {},
   "outputs": [
    {
     "name": "stdout",
     "output_type": "stream",
     "text": [
      "NGram4List loaded:  E:\\LangOn\\MWE2019\\data\\cache_ngrams_list\\ngrams_var_list.csv\n"
     ]
    }
   ],
   "source": [
    "ng = NGram4List()"
   ]
  },
  {
   "cell_type": "code",
   "execution_count": 4,
   "metadata": {},
   "outputs": [
    {
     "name": "stdout",
     "output_type": "stream",
     "text": [
      "initialize new instance\n"
     ]
    }
   ],
   "source": [
    "idioms = MoeIdioms()"
   ]
  },
  {
   "cell_type": "code",
   "execution_count": 5,
   "metadata": {},
   "outputs": [
    {
     "data": {
      "text/html": [
       "<div>\n",
       "<style scoped>\n",
       "    .dataframe tbody tr th:only-of-type {\n",
       "        vertical-align: middle;\n",
       "    }\n",
       "\n",
       "    .dataframe tbody tr th {\n",
       "        vertical-align: top;\n",
       "    }\n",
       "\n",
       "    .dataframe thead th {\n",
       "        text-align: right;\n",
       "    }\n",
       "</style>\n",
       "<table border=\"1\" class=\"dataframe\">\n",
       "  <thead>\n",
       "    <tr style=\"text-align: right;\">\n",
       "      <th></th>\n",
       "      <th>freq</th>\n",
       "      <th>sub2.A</th>\n",
       "      <th>del2.A</th>\n",
       "      <th>sub3.A</th>\n",
       "      <th>del3.A</th>\n",
       "      <th>ins.A</th>\n",
       "      <th>sub2.C</th>\n",
       "      <th>del2.C</th>\n",
       "      <th>sub3.C</th>\n",
       "      <th>del3.C</th>\n",
       "      <th>ins.C</th>\n",
       "      <th>sub2.P</th>\n",
       "      <th>del2.P</th>\n",
       "      <th>sub3.P</th>\n",
       "      <th>del3.P</th>\n",
       "      <th>ins.P</th>\n",
       "      <th>pmi</th>\n",
       "    </tr>\n",
       "    <tr>\n",
       "      <th>ngram</th>\n",
       "      <th></th>\n",
       "      <th></th>\n",
       "      <th></th>\n",
       "      <th></th>\n",
       "      <th></th>\n",
       "      <th></th>\n",
       "      <th></th>\n",
       "      <th></th>\n",
       "      <th></th>\n",
       "      <th></th>\n",
       "      <th></th>\n",
       "      <th></th>\n",
       "      <th></th>\n",
       "      <th></th>\n",
       "      <th></th>\n",
       "      <th></th>\n",
       "      <th></th>\n",
       "    </tr>\n",
       "  </thead>\n",
       "  <tbody>\n",
       "    <tr>\n",
       "      <th>台北報導</th>\n",
       "      <td>206875</td>\n",
       "      <td>244</td>\n",
       "      <td>2</td>\n",
       "      <td>0</td>\n",
       "      <td>0</td>\n",
       "      <td>22</td>\n",
       "      <td>233</td>\n",
       "      <td>0</td>\n",
       "      <td>0</td>\n",
       "      <td>0</td>\n",
       "      <td>6</td>\n",
       "      <td>0</td>\n",
       "      <td>0</td>\n",
       "      <td>0</td>\n",
       "      <td>0</td>\n",
       "      <td>0</td>\n",
       "      <td>-46.299180</td>\n",
       "    </tr>\n",
       "    <tr>\n",
       "      <th>資料來源</th>\n",
       "      <td>121438</td>\n",
       "      <td>15</td>\n",
       "      <td>0</td>\n",
       "      <td>0</td>\n",
       "      <td>0</td>\n",
       "      <td>16</td>\n",
       "      <td>4</td>\n",
       "      <td>0</td>\n",
       "      <td>0</td>\n",
       "      <td>0</td>\n",
       "      <td>1</td>\n",
       "      <td>0</td>\n",
       "      <td>0</td>\n",
       "      <td>0</td>\n",
       "      <td>0</td>\n",
       "      <td>0</td>\n",
       "      <td>-44.669832</td>\n",
       "    </tr>\n",
       "    <tr>\n",
       "      <th>綜合報導</th>\n",
       "      <td>112063</td>\n",
       "      <td>0</td>\n",
       "      <td>0</td>\n",
       "      <td>0</td>\n",
       "      <td>0</td>\n",
       "      <td>308</td>\n",
       "      <td>0</td>\n",
       "      <td>0</td>\n",
       "      <td>0</td>\n",
       "      <td>0</td>\n",
       "      <td>59</td>\n",
       "      <td>0</td>\n",
       "      <td>0</td>\n",
       "      <td>0</td>\n",
       "      <td>0</td>\n",
       "      <td>0</td>\n",
       "      <td>-43.862106</td>\n",
       "    </tr>\n",
       "    <tr>\n",
       "      <th>中華民國</th>\n",
       "      <td>58360</td>\n",
       "      <td>3</td>\n",
       "      <td>0</td>\n",
       "      <td>8</td>\n",
       "      <td>11</td>\n",
       "      <td>55</td>\n",
       "      <td>2</td>\n",
       "      <td>0</td>\n",
       "      <td>1</td>\n",
       "      <td>2</td>\n",
       "      <td>26</td>\n",
       "      <td>2</td>\n",
       "      <td>0</td>\n",
       "      <td>1</td>\n",
       "      <td>0</td>\n",
       "      <td>51</td>\n",
       "      <td>-48.729690</td>\n",
       "    </tr>\n",
       "    <tr>\n",
       "      <th>最重要的</th>\n",
       "      <td>35402</td>\n",
       "      <td>38</td>\n",
       "      <td>0</td>\n",
       "      <td>16</td>\n",
       "      <td>11</td>\n",
       "      <td>33</td>\n",
       "      <td>28</td>\n",
       "      <td>0</td>\n",
       "      <td>6</td>\n",
       "      <td>1</td>\n",
       "      <td>20</td>\n",
       "      <td>61</td>\n",
       "      <td>1</td>\n",
       "      <td>9</td>\n",
       "      <td>2</td>\n",
       "      <td>98</td>\n",
       "      <td>-51.222036</td>\n",
       "    </tr>\n",
       "  </tbody>\n",
       "</table>\n",
       "</div>"
      ],
      "text/plain": [
       "         freq  sub2.A  del2.A  sub3.A  del3.A  ins.A  sub2.C  del2.C  sub3.C  \\\n",
       "ngram                                                                          \n",
       "台北報導   206875     244       2       0       0     22     233       0       0   \n",
       "資料來源   121438      15       0       0       0     16       4       0       0   \n",
       "綜合報導   112063       0       0       0       0    308       0       0       0   \n",
       "中華民國    58360       3       0       8      11     55       2       0       1   \n",
       "最重要的    35402      38       0      16      11     33      28       0       6   \n",
       "\n",
       "       del3.C  ins.C  sub2.P  del2.P  sub3.P  del3.P  ins.P        pmi  \n",
       "ngram                                                                   \n",
       "台北報導        0      6       0       0       0       0      0 -46.299180  \n",
       "資料來源        0      1       0       0       0       0      0 -44.669832  \n",
       "綜合報導        0     59       0       0       0       0      0 -43.862106  \n",
       "中華民國        2     26       2       0       1       0     51 -48.729690  \n",
       "最重要的        1     20      61       1       9       2     98 -51.222036  "
      ]
     },
     "execution_count": 5,
     "metadata": {},
     "output_type": "execute_result"
    }
   ],
   "source": [
    "ng.merged_df.head()"
   ]
  },
  {
   "cell_type": "code",
   "execution_count": 6,
   "metadata": {},
   "outputs": [
    {
     "data": {
      "text/plain": [
       "<matplotlib.axes._subplots.AxesSubplot at 0x1a075f7d400>"
      ]
     },
     "execution_count": 6,
     "metadata": {},
     "output_type": "execute_result"
    },
    {
     "data": {
      "image/png": "[encoded data removed]",
      "text/plain": [
       "<Figure size 432x288 with 1 Axes>"
      ]
     },
     "metadata": {
      "needs_background": "light"
     },
     "output_type": "display_data"
    }
   ],
   "source": [
    "ng.merged_df.pmi.plot(kind='hist')"
   ]
  },
  {
   "cell_type": "code",
   "execution_count": 7,
   "metadata": {},
   "outputs": [],
   "source": [
    "enc_seeds = ng.merged_df.sort_values(\"pmi\", ascending=False).iloc[:int(ng.merged_df.shape[0]/2), :].reset_index()[\"ngram\"]\n",
    "enc_seeds = enc_seeds.loc[('?' not in x for x in enc_seeds)]\n",
    "install_data_cache('enclosing_ngrams')\n",
    "seed_path = get_cache_path('enclosing_ngrams', f\"enclosing_seed.csv\")\n",
    "enc_seeds.to_csv(seed_path, index=False)\n"
   ]
  },
  {
   "cell_type": "markdown",
   "metadata": {},
   "source": [
    "## merging enclosings"
   ]
  },
  {
   "cell_type": "code",
   "execution_count": 9,
   "metadata": {},
   "outputs": [],
   "source": [
    "from MWE2019.materials import compute_enclosing"
   ]
  },
  {
   "cell_type": "code",
   "execution_count": 10,
   "metadata": {},
   "outputs": [],
   "source": [
    "enc_df = compute_enclosing(ng.merged_df)\n",
    "enc_df.drop(columns=[x for x in enc_df.columns if x.startswith(\"sub\")], inplace=True)\n",
    "enc_df.drop(columns=[x for x in enc_df.columns if x.startswith(\"del\")], inplace=True)\n",
    "enc_df.drop(columns=[x for x in enc_df.columns if x.startswith(\"ins\")], inplace=True)\n",
    "enc_df = enc_df.loc[enc_df.enc_freq > 0]"
   ]
  },
  {
   "cell_type": "code",
   "execution_count": 11,
   "metadata": {},
   "outputs": [],
   "source": [
    "enc_df[\"enc_norm\"] = np.log(enc_df.enc_freq/enc_df.freq)"
   ]
  },
  {
   "cell_type": "code",
   "execution_count": 12,
   "metadata": {},
   "outputs": [],
   "source": [
    "enc_df[\"enc_norm_pr\"] = enc_df.enc_norm.rank(ascending=False, pct=True)\n",
    "enc_df[\"pmi_pr\"] = enc_df.pmi.rank(pct=True)\n",
    "enc_df = enc_df.loc[(enc_df.enc_norm_pr>=0.75) & (enc_df.pmi_pr >= 0.75), :]\n",
    "qie_df = enc_df.loc[(x for x in enc_df.index if x not in idioms), :]\n",
    "qie_df.index.name = \"ngram\""
   ]
  },
  {
   "cell_type": "code",
   "execution_count": 13,
   "metadata": {},
   "outputs": [
    {
     "name": "stdout",
     "output_type": "stream",
     "text": [
      "(2722, 6)\n",
      "(2478, 6)\n"
     ]
    }
   ],
   "source": [
    "print(enc_df.shape)\n",
    "print(qie_df.shape)"
   ]
  },
  {
   "cell_type": "code",
   "execution_count": 14,
   "metadata": {},
   "outputs": [],
   "source": [
    "install_data_cache(\"qie_list\")\n",
    "qie_path = get_cache_path(\"qie_list\", \"qie_list.csv\")\n",
    "qie_df.to_csv(qie_path, index=True)"
   ]
  },
  {
   "cell_type": "markdown",
   "metadata": {},
   "source": [
    "## Generate QieContext Sentences"
   ]
  },
  {
   "cell_type": "code",
   "execution_count": 15,
   "metadata": {},
   "outputs": [],
   "source": [
    "from MWE2019.materials import QieContext\n",
    "from itertools import islice, chain\n",
    "from collections import defaultdict"
   ]
  },
  {
   "cell_type": "code",
   "execution_count": 16,
   "metadata": {},
   "outputs": [],
   "source": [
    "ptt = CorpusFactory.GetPttCorpus(local_config.CORPUS_DIR + \"/PTT\")\n",
    "ctimes = CorpusFactory.GetNewsCorpus(local_config.CORPUS_DIR + \"/China_text\")\n",
    "apple = CorpusFactory.GetNewsCorpus(local_config.CORPUS_DIR + \"/Apple_text\")"
   ]
  },
  {
   "cell_type": "code",
   "execution_count": 17,
   "metadata": {},
   "outputs": [],
   "source": [
    "artN = 80e4+70e4+11e4\n",
    "# art_iter = islice(all_iter, 10)"
   ]
  },
  {
   "cell_type": "code",
   "execution_count": 26,
   "metadata": {},
   "outputs": [
    {
     "data": {
      "text/plain": [
       "7584"
      ]
     },
     "execution_count": 26,
     "metadata": {},
     "output_type": "execute_result"
    }
   ],
   "source": [
    "len(qie_df.index.values.tolist() + list(idioms))"
   ]
  },
  {
   "cell_type": "code",
   "execution_count": null,
   "metadata": {},
   "outputs": [
    {
     "name": "stdout",
     "output_type": "stream",
     "text": [
      "finding context of 7584\n",
      "sampling ratio: 0.001\n",
      "finding in 1610 articles\n"
     ]
    },
    {
     "data": {
      "application/vnd.jupyter.widget-view+json": {
       "model_id": "9a178767500449ebabe2895cc429d7f8",
       "version_major": 2,
       "version_minor": 0
      },
      "text/plain": [
       "HBox(children=(IntProgress(value=1, bar_style='info', max=1), HTML(value='')))"
      ]
     },
     "metadata": {},
     "output_type": "display_data"
    },
    {
     "name": "stdout",
     "output_type": "stream",
     "text": [
      "\n",
      "finding context of 7426\n",
      "sampling ratio: 0.0019\n",
      "finding in 3059 articles\n"
     ]
    },
    {
     "data": {
      "application/vnd.jupyter.widget-view+json": {
       "model_id": "5472be710d64489cb19d80258b3c2e31",
       "version_major": 2,
       "version_minor": 0
      },
      "text/plain": [
       "HBox(children=(IntProgress(value=1, bar_style='info', max=1), HTML(value='')))"
      ]
     },
     "metadata": {},
     "output_type": "display_data"
    },
    {
     "name": "stdout",
     "output_type": "stream",
     "text": [
      "\n",
      "finding context of 6724\n",
      "sampling ratio: 0.00361\n",
      "finding in 5812 articles\n"
     ]
    },
    {
     "data": {
      "application/vnd.jupyter.widget-view+json": {
       "model_id": "e857bc8677a447e49d30f3f95d4e6daa",
       "version_major": 2,
       "version_minor": 0
      },
      "text/plain": [
       "HBox(children=(IntProgress(value=1, bar_style='info', max=1), HTML(value='')))"
      ]
     },
     "metadata": {},
     "output_type": "display_data"
    },
    {
     "name": "stdout",
     "output_type": "stream",
     "text": [
      "\n",
      "finding context of 5646\n",
      "sampling ratio: 0.006859\n",
      "finding in 11042 articles\n"
     ]
    },
    {
     "data": {
      "application/vnd.jupyter.widget-view+json": {
       "model_id": "25f2471760a041db8aec8fc5238a1207",
       "version_major": 2,
       "version_minor": 0
      },
      "text/plain": [
       "HBox(children=(IntProgress(value=1, bar_style='info', max=1), HTML(value='')))"
      ]
     },
     "metadata": {},
     "output_type": "display_data"
    },
    {
     "name": "stdout",
     "output_type": "stream",
     "text": [
      "\n",
      "finding context of 4563\n",
      "sampling ratio: 0.013032099999999998\n",
      "finding in 20981 articles\n"
     ]
    },
    {
     "data": {
      "application/vnd.jupyter.widget-view+json": {
       "model_id": "acbc482c7b194f8284ad00c7889bb834",
       "version_major": 2,
       "version_minor": 0
      },
      "text/plain": [
       "HBox(children=(IntProgress(value=1, bar_style='info', max=1), HTML(value='')))"
      ]
     },
     "metadata": {},
     "output_type": "display_data"
    },
    {
     "name": "stdout",
     "output_type": "stream",
     "text": [
      "\n",
      "finding context of 3905\n",
      "sampling ratio: 0.024760989999999993\n",
      "finding in 39865 articles\n"
     ]
    },
    {
     "data": {
      "application/vnd.jupyter.widget-view+json": {
       "model_id": "a7d1f03ef3b445e7bacbdfec345c5459",
       "version_major": 2,
       "version_minor": 0
      },
      "text/plain": [
       "HBox(children=(IntProgress(value=1, bar_style='info', max=1), HTML(value='')))"
      ]
     },
     "metadata": {},
     "output_type": "display_data"
    },
    {
     "name": "stdout",
     "output_type": "stream",
     "text": [
      "\n",
      "finding context of 3725\n",
      "sampling ratio: 0.047045880999999984\n",
      "finding in 75743 articles\n"
     ]
    },
    {
     "data": {
      "application/vnd.jupyter.widget-view+json": {
       "model_id": "28ac603389d54940b38b314b65ee39e1",
       "version_major": 2,
       "version_minor": 0
      },
      "text/plain": [
       "HBox(children=(IntProgress(value=1, bar_style='info', max=1), HTML(value='')))"
      ]
     },
     "metadata": {},
     "output_type": "display_data"
    },
    {
     "name": "stdout",
     "output_type": "stream",
     "text": [
      "\n",
      "finding context of 3613\n",
      "sampling ratio: 0.08938717389999996\n",
      "finding in 143913 articles\n"
     ]
    },
    {
     "data": {
      "application/vnd.jupyter.widget-view+json": {
       "model_id": "176fd3b8453f412aa5a91038fc24dfe7",
       "version_major": 2,
       "version_minor": 0
      },
      "text/plain": [
       "HBox(children=(IntProgress(value=1, bar_style='info', max=1), HTML(value='')))"
      ]
     },
     "metadata": {},
     "output_type": "display_data"
    },
    {
     "name": "stdout",
     "output_type": "stream",
     "text": [
      "\n",
      "finding context of 3543\n",
      "sampling ratio: 0.1698356304099999\n",
      "finding in 273435 articles\n"
     ]
    },
    {
     "data": {
      "application/vnd.jupyter.widget-view+json": {
       "model_id": "06080eab6d384c2db5a71488376385ab",
       "version_major": 2,
       "version_minor": 0
      },
      "text/plain": [
       "HBox(children=(IntProgress(value=1, bar_style='info', max=1), HTML(value='')))"
      ]
     },
     "metadata": {},
     "output_type": "display_data"
    }
   ],
   "source": [
    "qie_context = defaultdict(set)\n",
    "sample_ratio = 0.001\n",
    "seeds = qie_df.index.values.tolist() + list(idioms)\n",
    "loop_counter = 0\n",
    "\n",
    "while len(seeds) > 0:\n",
    "    print(f\"finding context of {len(seeds)}\")\n",
    "    print(f\"sampling ratio: {sample_ratio}\")\n",
    "    print(f\"finding in {int(artN * sample_ratio)} articles\")\n",
    "    all_iter = chain(ptt.articles(), ctimes.articles(), apple.articles())\n",
    "    art_iter = filter(lambda x: x[0] % int(1/sample_ratio) == 0, all_iter)\n",
    "    ctx = QieContext(art_iter)\n",
    "    batch = ctx.search_context(seeds)\n",
    "    for ngram, ctxlist in batch.items():\n",
    "        qie_context[ngram].update(batch[ngram])\n",
    "    \n",
    "    if sample_ratio >= 1:\n",
    "        break\n",
    "    else:\n",
    "        seeds = [ngram_x for ngram_x, ctxlist in qie_context.items() if len(ctxlist) <= 5]\n",
    "        sample_ratio = min(sample_ratio * 1.9, 1)\n",
    "    "
   ]
  },
  {
   "cell_type": "code",
   "execution_count": null,
   "metadata": {},
   "outputs": [],
   "source": [
    "install_data_cache(\"qie_list\")\n",
    "qie_context_path = get_cache_path(\"qie_list\", \"qie_context.pkl\")\n",
    "with open(qie_context_path, \"wb\") as fout:\n",
    "    pickle.dump(qie_context, fout)"
   ]
  },
  {
   "cell_type": "markdown",
   "metadata": {},
   "source": [
    "## Compute exact frequency"
   ]
  },
  {
   "cell_type": "code",
   "execution_count": 137,
   "metadata": {},
   "outputs": [],
   "source": [
    "from itertools import chain, islice\n",
    "from collections import Counter\n",
    "\n",
    "ngram_freq = Counter()\n",
    "ngrams = qie_df.index.values"
   ]
  },
  {
   "cell_type": "code",
   "execution_count": null,
   "metadata": {},
   "outputs": [],
   "source": [
    "# took around ~60 minutes, in i7 single process\n",
    "all_iter = chain(ptt.articles(), ctimes.articles(), apple.articles())\n",
    "# all_iter = islice(all_iter, 1000)\n",
    "for _, _, art_x in tqdm(all_iter):\n",
    "    ngram_freq.update({ng: art_x.count(ng) for ng in ngrams})  \n"
   ]
  },
  {
   "cell_type": "code",
   "execution_count": 150,
   "metadata": {},
   "outputs": [],
   "source": [
    "exact_freq_df = pd.DataFrame.from_dict(ngram_freq, orient='index', columns=['exact_freq'])\n",
    "qie_full = qie_df.join(exact_freq_df)\n",
    "qie_full_path = get_cache_path(\"qie_list\", \"qie_list.csv\")\n",
    "qie_full.to_csv(qie_full_path, index=True)"
   ]
  },
  {
   "cell_type": "code",
   "execution_count": 148,
   "metadata": {},
   "outputs": [
    {
     "data": {
      "text/plain": [
       "<matplotlib.axes._subplots.AxesSubplot at 0x1a07ea6c4a8>"
      ]
     },
     "execution_count": 148,
     "metadata": {},
     "output_type": "execute_result"
    },
    {
     "data": {
      "image/png": "[encoded data removed]",
      "text/plain": [
       "<Figure size 432x288 with 1 Axes>"
      ]
     },
     "metadata": {
      "needs_background": "light"
     },
     "output_type": "display_data"
    }
   ],
   "source": [
    "qie_full.plot('freq', 'exact_freq', logx=True, logy=True)"
   ]
  },
  {
   "cell_type": "code",
   "execution_count": 161,
   "metadata": {},
   "outputs": [
    {
     "data": {
      "text/html": [
       "<div>\n",
       "<style scoped>\n",
       "    .dataframe tbody tr th:only-of-type {\n",
       "        vertical-align: middle;\n",
       "    }\n",
       "\n",
       "    .dataframe tbody tr th {\n",
       "        vertical-align: top;\n",
       "    }\n",
       "\n",
       "    .dataframe thead th {\n",
       "        text-align: right;\n",
       "    }\n",
       "</style>\n",
       "<table border=\"1\" class=\"dataframe\">\n",
       "  <thead>\n",
       "    <tr style=\"text-align: right;\">\n",
       "      <th></th>\n",
       "      <th>freq</th>\n",
       "      <th>exact_freq</th>\n",
       "    </tr>\n",
       "  </thead>\n",
       "  <tbody>\n",
       "    <tr>\n",
       "      <th>freq</th>\n",
       "      <td>1.000000</td>\n",
       "      <td>0.978241</td>\n",
       "    </tr>\n",
       "    <tr>\n",
       "      <th>exact_freq</th>\n",
       "      <td>0.978241</td>\n",
       "      <td>1.000000</td>\n",
       "    </tr>\n",
       "  </tbody>\n",
       "</table>\n",
       "</div>"
      ],
      "text/plain": [
       "                freq  exact_freq\n",
       "freq        1.000000    0.978241\n",
       "exact_freq  0.978241    1.000000"
      ]
     },
     "execution_count": 161,
     "metadata": {},
     "output_type": "execute_result"
    }
   ],
   "source": [
    "(np.log(qie_full.loc[:,[\"freq\", \"exact_freq\"]])).corr()"
   ]
  },
  {
   "cell_type": "markdown",
   "metadata": {},
   "source": [
    "### Idioms exact frequency"
   ]
  },
  {
   "cell_type": "code",
   "execution_count": null,
   "metadata": {},
   "outputs": [],
   "source": [
    "idiom_freq = Counter()\n",
    "idiom_list = list(idioms)\n",
    "# took around ~60 minutes, in i7 single process\n",
    "all_iter = chain(ptt.articles(), ctimes.articles(), apple.articles())\n",
    "# all_iter = islice(all_iter, 1000)\n",
    "for _, _, art_x in tqdm(all_iter):\n",
    "    idiom_freq.update({idiom_x: art_x.count(idiom_x) for idiom_x in idiom_list})  \n"
   ]
  },
  {
   "cell_type": "code",
   "execution_count": null,
   "metadata": {},
   "outputs": [],
   "source": [
    "install_data_cache(\"qie_list\")\n",
    "idiom_freq_path = get_cache_path(\"qie_list\", \"idiom_exact_frequency.pkl\")\n",
    "with open(idiom_freq_path, \"wb\") as fout:\n",
    "    pickle.dump(idiom_freq, fout)"
   ]
  },
  {
   "cell_type": "code",
   "execution_count": null,
   "metadata": {},
   "outputs": [],
   "source": []
  }
 ],
 "metadata": {
  "kernelspec": {
   "display_name": "Python 3",
   "language": "python",
   "name": "python3"
  },
  "language_info": {
   "codemirror_mode": {
    "name": "ipython",
    "version": 3
   },
   "file_extension": ".py",
   "mimetype": "text/x-python",
   "name": "python",
   "nbconvert_exporter": "python",
   "pygments_lexer": "ipython3",
   "version": "3.7.2"
  }
 },
 "nbformat": 4,
 "nbformat_minor": 2
}
