{
 "cells": [
  {
   "cell_type": "markdown",
   "metadata": {},
   "source": [
    "# QieList"
   ]
  },
  {
   "cell_type": "code",
   "execution_count": 1,
   "metadata": {},
   "outputs": [],
   "source": [
    "%load_ext autoreload\n",
    "%autoreload 2\n",
    "%matplotlib inline\n",
    "import sys\n",
    "sys.path.append(\"../\")"
   ]
  },
  {
   "cell_type": "markdown",
   "metadata": {},
   "source": [
    "## Building Sampling Frame"
   ]
  },
  {
   "cell_type": "markdown",
   "metadata": {},
   "source": [
    "### Idiom List (in ngrams)"
   ]
  },
  {
   "cell_type": "code",
   "execution_count": 2,
   "metadata": {},
   "outputs": [],
   "source": [
    "import local_config\n",
    "import pickle\n",
    "from functools import partial, reduce\n",
    "import pandas as pd\n",
    "import numpy as np\n",
    "from MWE2019.materials import NGram4List, MoeIdioms\n",
    "from MWE2019.corpus import CorpusFactory\n",
    "from MWE2019.corpus_index import CorpusIndex\n",
    "from MWE2019.utils import get_cache_path, install_data_cache\n",
    "from tqdm import tqdm_notebook as tqdm"
   ]
  },
  {
   "cell_type": "code",
   "execution_count": 3,
   "metadata": {},
   "outputs": [
    {
     "name": "stdout",
     "output_type": "stream",
     "text": [
      "NGram4List loaded:  E:\\LangOn\\MWE2019\\data\\cache_ngrams_list\\ngrams_var_list.csv\n"
     ]
    }
   ],
   "source": [
    "ng = NGram4List()"
   ]
  },
  {
   "cell_type": "code",
   "execution_count": 4,
   "metadata": {},
   "outputs": [
    {
     "name": "stdout",
     "output_type": "stream",
     "text": [
      "initialize new instance\n"
     ]
    }
   ],
   "source": [
    "idioms = MoeIdioms()"
   ]
  },
  {
   "cell_type": "code",
   "execution_count": 5,
   "metadata": {},
   "outputs": [
    {
     "data": {
      "text/html": [
       "<div>\n",
       "<style scoped>\n",
       "    .dataframe tbody tr th:only-of-type {\n",
       "        vertical-align: middle;\n",
       "    }\n",
       "\n",
       "    .dataframe tbody tr th {\n",
       "        vertical-align: top;\n",
       "    }\n",
       "\n",
       "    .dataframe thead th {\n",
       "        text-align: right;\n",
       "    }\n",
       "</style>\n",
       "<table border=\"1\" class=\"dataframe\">\n",
       "  <thead>\n",
       "    <tr style=\"text-align: right;\">\n",
       "      <th></th>\n",
       "      <th>freq</th>\n",
       "      <th>sub2.A</th>\n",
       "      <th>del2.A</th>\n",
       "      <th>sub3.A</th>\n",
       "      <th>del3.A</th>\n",
       "      <th>ins.A</th>\n",
       "      <th>sub2.C</th>\n",
       "      <th>del2.C</th>\n",
       "      <th>sub3.C</th>\n",
       "      <th>del3.C</th>\n",
       "      <th>ins.C</th>\n",
       "      <th>sub2.P</th>\n",
       "      <th>del2.P</th>\n",
       "      <th>sub3.P</th>\n",
       "      <th>del3.P</th>\n",
       "      <th>ins.P</th>\n",
       "      <th>pmi</th>\n",
       "    </tr>\n",
       "    <tr>\n",
       "      <th>ngram</th>\n",
       "      <th></th>\n",
       "      <th></th>\n",
       "      <th></th>\n",
       "      <th></th>\n",
       "      <th></th>\n",
       "      <th></th>\n",
       "      <th></th>\n",
       "      <th></th>\n",
       "      <th></th>\n",
       "      <th></th>\n",
       "      <th></th>\n",
       "      <th></th>\n",
       "      <th></th>\n",
       "      <th></th>\n",
       "      <th></th>\n",
       "      <th></th>\n",
       "      <th></th>\n",
       "    </tr>\n",
       "  </thead>\n",
       "  <tbody>\n",
       "    <tr>\n",
       "      <th>台北報導</th>\n",
       "      <td>206875</td>\n",
       "      <td>244</td>\n",
       "      <td>2</td>\n",
       "      <td>0</td>\n",
       "      <td>0</td>\n",
       "      <td>22</td>\n",
       "      <td>233</td>\n",
       "      <td>0</td>\n",
       "      <td>0</td>\n",
       "      <td>0</td>\n",
       "      <td>6</td>\n",
       "      <td>0</td>\n",
       "      <td>0</td>\n",
       "      <td>0</td>\n",
       "      <td>0</td>\n",
       "      <td>0</td>\n",
       "      <td>-46.299180</td>\n",
       "    </tr>\n",
       "    <tr>\n",
       "      <th>資料來源</th>\n",
       "      <td>121438</td>\n",
       "      <td>15</td>\n",
       "      <td>0</td>\n",
       "      <td>0</td>\n",
       "      <td>0</td>\n",
       "      <td>16</td>\n",
       "      <td>4</td>\n",
       "      <td>0</td>\n",
       "      <td>0</td>\n",
       "      <td>0</td>\n",
       "      <td>1</td>\n",
       "      <td>0</td>\n",
       "      <td>0</td>\n",
       "      <td>0</td>\n",
       "      <td>0</td>\n",
       "      <td>0</td>\n",
       "      <td>-44.669832</td>\n",
       "    </tr>\n",
       "    <tr>\n",
       "      <th>綜合報導</th>\n",
       "      <td>112063</td>\n",
       "      <td>0</td>\n",
       "      <td>0</td>\n",
       "      <td>0</td>\n",
       "      <td>0</td>\n",
       "      <td>308</td>\n",
       "      <td>0</td>\n",
       "      <td>0</td>\n",
       "      <td>0</td>\n",
       "      <td>0</td>\n",
       "      <td>59</td>\n",
       "      <td>0</td>\n",
       "      <td>0</td>\n",
       "      <td>0</td>\n",
       "      <td>0</td>\n",
       "      <td>0</td>\n",
       "      <td>-43.862106</td>\n",
       "    </tr>\n",
       "    <tr>\n",
       "      <th>中華民國</th>\n",
       "      <td>58360</td>\n",
       "      <td>3</td>\n",
       "      <td>0</td>\n",
       "      <td>8</td>\n",
       "      <td>11</td>\n",
       "      <td>55</td>\n",
       "      <td>2</td>\n",
       "      <td>0</td>\n",
       "      <td>1</td>\n",
       "      <td>2</td>\n",
       "      <td>26</td>\n",
       "      <td>2</td>\n",
       "      <td>0</td>\n",
       "      <td>1</td>\n",
       "      <td>0</td>\n",
       "      <td>51</td>\n",
       "      <td>-48.729690</td>\n",
       "    </tr>\n",
       "    <tr>\n",
       "      <th>最重要的</th>\n",
       "      <td>35402</td>\n",
       "      <td>38</td>\n",
       "      <td>0</td>\n",
       "      <td>16</td>\n",
       "      <td>11</td>\n",
       "      <td>33</td>\n",
       "      <td>28</td>\n",
       "      <td>0</td>\n",
       "      <td>6</td>\n",
       "      <td>1</td>\n",
       "      <td>20</td>\n",
       "      <td>61</td>\n",
       "      <td>1</td>\n",
       "      <td>9</td>\n",
       "      <td>2</td>\n",
       "      <td>98</td>\n",
       "      <td>-51.222036</td>\n",
       "    </tr>\n",
       "  </tbody>\n",
       "</table>\n",
       "</div>"
      ],
      "text/plain": [
       "         freq  sub2.A  del2.A  sub3.A  del3.A  ins.A  sub2.C  del2.C  sub3.C  \\\n",
       "ngram                                                                          \n",
       "台北報導   206875     244       2       0       0     22     233       0       0   \n",
       "資料來源   121438      15       0       0       0     16       4       0       0   \n",
       "綜合報導   112063       0       0       0       0    308       0       0       0   \n",
       "中華民國    58360       3       0       8      11     55       2       0       1   \n",
       "最重要的    35402      38       0      16      11     33      28       0       6   \n",
       "\n",
       "       del3.C  ins.C  sub2.P  del2.P  sub3.P  del3.P  ins.P        pmi  \n",
       "ngram                                                                   \n",
       "台北報導        0      6       0       0       0       0      0 -46.299180  \n",
       "資料來源        0      1       0       0       0       0      0 -44.669832  \n",
       "綜合報導        0     59       0       0       0       0      0 -43.862106  \n",
       "中華民國        2     26       2       0       1       0     51 -48.729690  \n",
       "最重要的        1     20      61       1       9       2     98 -51.222036  "
      ]
     },
     "execution_count": 5,
     "metadata": {},
     "output_type": "execute_result"
    }
   ],
   "source": [
    "ng.merged_df.head()"
   ]
  },
  {
   "cell_type": "code",
   "execution_count": 6,
   "metadata": {},
   "outputs": [
    {
     "data": {
      "text/plain": [
       "<matplotlib.axes._subplots.AxesSubplot at 0x1a075f7d400>"
      ]
     },
     "execution_count": 6,
     "metadata": {},
     "output_type": "execute_result"
    },
    {
     "data": {
      "image/png": "[encoded data removed]",
      "text/plain": [
       "<Figure size 432x288 with 1 Axes>"
      ]
     },
     "metadata": {
      "needs_background": "light"
     },
     "output_type": "display_data"
    }
   ],
   "source": [
    "ng.merged_df.pmi.plot(kind='hist')"
   ]
  },
  {
   "cell_type": "code",
   "execution_count": 7,
   "metadata": {},
   "outputs": [],
   "source": [
    "enc_seeds = ng.merged_df.sort_values(\"pmi\", ascending=False).iloc[:int(ng.merged_df.shape[0]/2), :].reset_index()[\"ngram\"]\n",
    "enc_seeds = enc_seeds.loc[('?' not in x for x in enc_seeds)]\n",
    "install_data_cache('enclosing_ngrams')\n",
    "seed_path = get_cache_path('enclosing_ngrams', f\"enclosing_seed.csv\")\n",
    "enc_seeds.to_csv(seed_path, index=False)\n"
   ]
  },
  {
   "cell_type": "markdown",
   "metadata": {},
   "source": [
    "## merging enclosings"
   ]
  },
  {
   "cell_type": "code",
   "execution_count": 8,
   "metadata": {},
   "outputs": [],
   "source": [
    "from MWE2019.materials import compute_enclosing"
   ]
  },
  {
   "cell_type": "code",
   "execution_count": 9,
   "metadata": {},
   "outputs": [],
   "source": [
    "enc_df = compute_enclosing(ng.merged_df)\n",
    "enc_df.drop(columns=[x for x in enc_df.columns if x.startswith(\"sub\")], inplace=True)\n",
    "enc_df.drop(columns=[x for x in enc_df.columns if x.startswith(\"del\")], inplace=True)\n",
    "enc_df.drop(columns=[x for x in enc_df.columns if x.startswith(\"ins\")], inplace=True)\n",
    "enc_df = enc_df.loc[enc_df.enc_freq > 0]"
   ]
  },
  {
   "cell_type": "code",
   "execution_count": 10,
   "metadata": {},
   "outputs": [],
   "source": [
    "enc_df[\"enc_norm\"] = np.log(enc_df.enc_freq/enc_df.freq)"
   ]
  },
  {
   "cell_type": "code",
   "execution_count": 25,
   "metadata": {},
   "outputs": [],
   "source": [
    "enc_df[\"enc_norm_pr\"] = enc_df.enc_norm.rank(ascending=False, pct=True)\n",
    "enc_df[\"pmi_pr\"] = enc_df.pmi.rank(pct=True)\n",
    "enc_df = enc_df.loc[(enc_df.enc_norm_pr>=0.75) & (enc_df.pmi_pr >= 0.75), :]\n",
    "qie_df = enc_df.loc[(x for x in enc_df.index if x not in idioms), :]\n",
    "qie_df.index.name = \"ngram\""
   ]
  },
  {
   "cell_type": "code",
   "execution_count": 38,
   "metadata": {},
   "outputs": [
    {
     "name": "stdout",
     "output_type": "stream",
     "text": [
      "(2722, 6)\n",
      "(2478, 6)\n"
     ]
    }
   ],
   "source": [
    "print(enc_df.shape)\n",
    "print(qie_df.shape)"
   ]
  },
  {
   "cell_type": "code",
   "execution_count": 37,
   "metadata": {},
   "outputs": [],
   "source": [
    "install_data_cache(\"qie_list\")\n",
    "qie_path = get_cache_path(\"qie_list\", \"qie_list.csv\")\n",
    "qie_df.to_csv(qie_path, index=True)"
   ]
  },
  {
   "cell_type": "markdown",
   "metadata": {},
   "source": [
    "## Generate QieContext Sentences"
   ]
  },
  {
   "cell_type": "code",
   "execution_count": 4,
   "metadata": {},
   "outputs": [],
   "source": [
    "apple = CorpusFactory.GetNewsCorpus(local_config.CORPUS_DIR + \"/Apple_text\")"
   ]
  },
  {
   "cell_type": "code",
   "execution_count": 5,
   "metadata": {},
   "outputs": [],
   "source": [
    "from MWE2019.materials import RedisCorpus\n",
    "from MWE2019.materials import QieContext\n",
    "from itertools import takewhile"
   ]
  },
  {
   "cell_type": "code",
   "execution_count": 45,
   "metadata": {},
   "outputs": [],
   "source": [
    "from random import random\n",
    "arts = list(filter(lambda x: random() < 0.01, apple.articles()))"
   ]
  },
  {
   "cell_type": "code",
   "execution_count": 51,
   "metadata": {},
   "outputs": [
    {
     "name": "stdout",
     "output_type": "stream",
     "text": [
      "try loading index..."
     ]
    },
    {
     "data": {
      "application/vnd.jupyter.widget-view+json": {
       "model_id": "f10f9c894d1940d59cfc65c209ea6073",
       "version_major": 2,
       "version_minor": 0
      },
      "text/plain": [
       "HBox(children=(IntProgress(value=0, description='building article index', max=7393, style=ProgressStyle(descri…"
      ]
     },
     "metadata": {},
     "output_type": "display_data"
    },
    {
     "name": "stdout",
     "output_type": "stream",
     "text": [
      "\n",
      "Saving index...Done\n"
     ]
    }
   ],
   "source": [
    "corpus_index = CorpusIndex('apple_dbg', arts)\n"
   ]
  },
  {
   "cell_type": "code",
   "execution_count": 52,
   "metadata": {},
   "outputs": [],
   "source": [
    "ctx = QieContext(arts, corpus_index)"
   ]
  },
  {
   "cell_type": "code",
   "execution_count": 57,
   "metadata": {},
   "outputs": [],
   "source": [
    "cc = ctx.search_context('嚴重毀損')"
   ]
  },
  {
   "cell_type": "code",
   "execution_count": 60,
   "metadata": {},
   "outputs": [
    {
     "data": {
      "text/plain": [
       "['高市文化局文化資產中心主任林尚瑛說，會勘後發現旗山生活文化園區北棟教室、辦公室及禮堂等建築均嚴重毀損，窗框、樑柱多處龜裂，毀損狀況已有立即性危險']"
      ]
     },
     "execution_count": 60,
     "metadata": {},
     "output_type": "execute_result"
    }
   ],
   "source": [
    "cc"
   ]
  },
  {
   "cell_type": "code",
   "execution_count": null,
   "metadata": {},
   "outputs": [],
   "source": []
  }
 ],
 "metadata": {
  "kernelspec": {
   "display_name": "Python 3",
   "language": "python",
   "name": "python3"
  },
  "language_info": {
   "codemirror_mode": {
    "name": "ipython",
    "version": 3
   },
   "file_extension": ".py",
   "mimetype": "text/x-python",
   "name": "python",
   "nbconvert_exporter": "python",
   "pygments_lexer": "ipython3",
   "version": "3.7.2"
  }
 },
 "nbformat": 4,
 "nbformat_minor": 2
}
