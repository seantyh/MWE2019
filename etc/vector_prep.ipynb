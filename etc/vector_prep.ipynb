{
 "cells": [
  {
   "cell_type": "code",
   "execution_count": 1,
   "metadata": {},
   "outputs": [],
   "source": [
    "%load_ext autoreload\n",
    "%autoreload 2\n",
    "%matplotlib inline\n",
    "import sys\n",
    "sys.path.append(\"../\")"
   ]
  },
  {
   "cell_type": "code",
   "execution_count": 2,
   "metadata": {},
   "outputs": [
    {
     "name": "stdout",
     "output_type": "stream",
     "text": [
      "Better speed can be achieved with apex installed from https://www.github.com/nvidia/apex.\n"
     ]
    }
   ],
   "source": [
    "import pickle\n",
    "from functools import partial, reduce\n",
    "from itertools import chain, tee, islice\n",
    "import numpy as np\n",
    "import pandas as pd\n",
    "from tqdm import tqdm_notebook as tqdm\n",
    "from flair.embeddings import BertEmbeddings, Sentence"
   ]
  },
  {
   "cell_type": "code",
   "execution_count": 3,
   "metadata": {},
   "outputs": [],
   "source": [
    "import local_config\n",
    "from MWE2019.materials import NGram4List, MoeIdioms\n",
    "from MWE2019.corpus import CorpusFactory\n",
    "from MWE2019.corpus_index import CorpusIndex\n",
    "from MWE2019.cwn_node_vec import CwnNodeVec\n",
    "from MWE2019.utils import get_cache_path, install_data_cache"
   ]
  },
  {
   "cell_type": "code",
   "execution_count": 4,
   "metadata": {},
   "outputs": [],
   "source": [
    "bert = BertEmbeddings('bert-base-chinese', layers='-1,-2,-3,-4', pooling_operation='mean')"
   ]
  },
  {
   "cell_type": "code",
   "execution_count": 5,
   "metadata": {},
   "outputs": [
    {
     "name": "stdout",
     "output_type": "stream",
     "text": [
      "load CwnNodeVec from cache:  ..\\MWE2019\\..\\data\\cache_cwn_node_vec\\cwn_node_vec_structeq.pkl\n"
     ]
    }
   ],
   "source": [
    "nv_eq = CwnNodeVec(name='structeq', dimensions=100, walk_length=10, num_walks=20, p=0.5, q=2)"
   ]
  },
  {
   "cell_type": "code",
   "execution_count": 6,
   "metadata": {},
   "outputs": [
    {
     "data": {
      "text/plain": [
       "3831"
      ]
     },
     "execution_count": 6,
     "metadata": {},
     "output_type": "execute_result"
    }
   ],
   "source": [
    "len([x for x in nv_eq.stoi.keys() if len(x) == 1])"
   ]
  },
  {
   "cell_type": "code",
   "execution_count": 7,
   "metadata": {},
   "outputs": [],
   "source": [
    "cwn_chars = [x for x in nv_eq.stoi.keys() if len(x) == 1]"
   ]
  },
  {
   "cell_type": "markdown",
   "metadata": {},
   "source": [
    "## Build character sense vectors"
   ]
  },
  {
   "cell_type": "code",
   "execution_count": 8,
   "metadata": {},
   "outputs": [],
   "source": [
    "sys.path.append(\"../../GWA2019\")\n",
    "from GWA2019 import cwn_sense_utils as utils\n",
    "with open(\"../resources/sense_embed.pkl\", \"rb\") as fin:\n",
    "    sense_embed = pickle.load(fin)"
   ]
  },
  {
   "cell_type": "code",
   "execution_count": 9,
   "metadata": {},
   "outputs": [
    {
     "data": {
      "text/plain": [
       "'03000401'"
      ]
     },
     "execution_count": 9,
     "metadata": {},
     "output_type": "execute_result"
    }
   ],
   "source": [
    "next(iter(sense_embed.keys()))"
   ]
  },
  {
   "cell_type": "code",
   "execution_count": 10,
   "metadata": {},
   "outputs": [],
   "source": [
    "from CwnGraph import CwnBase"
   ]
  },
  {
   "cell_type": "code",
   "execution_count": 11,
   "metadata": {},
   "outputs": [],
   "source": [
    "cwn = CwnBase()"
   ]
  },
  {
   "cell_type": "code",
   "execution_count": 12,
   "metadata": {},
   "outputs": [],
   "source": [
    "from GWA2019.cwn_sense_utils import find_examples, compute_sense_embedding"
   ]
  },
  {
   "cell_type": "code",
   "execution_count": 13,
   "metadata": {},
   "outputs": [
    {
     "data": {
      "text/plain": [
       "False"
      ]
     },
     "execution_count": 13,
     "metadata": {},
     "output_type": "execute_result"
    }
   ],
   "source": [
    "import torch\n",
    "torch.cuda.is_available()"
   ]
  },
  {
   "cell_type": "code",
   "execution_count": 14,
   "metadata": {},
   "outputs": [],
   "source": [
    "charac_sense_vectors = {}"
   ]
  },
  {
   "cell_type": "code",
   "execution_count": 15,
   "metadata": {},
   "outputs": [],
   "source": [
    "def get_sense_vector_from_cache(sense_ids, sense_cache):\n",
    "    sense_map = {}\n",
    "    for sense_id_x in sense_ids:\n",
    "        emb = sense_cache[sense_id_x][sense_id_x].embeddings\n",
    "        sense_map[sense_id_x] = emb.mean(0)\n",
    "    return sense_map\n",
    "\n",
    "def get_char_sense_vectors(charac, cwn_inst, bert_inst, sense_cache):\n",
    "    lemmas = cwn.find_lemma(f'^{ch}$')\n",
    "    senses = chain.from_iterable(x.senses for x in lemmas)\n",
    "    sense_ids = [x.id for x in senses]\n",
    "    has_cache = all([sid_x in sense_cache for sid_x in sense_ids])\n",
    "    \n",
    "    if has_cache:\n",
    "        sense_map = get_sense_vector_from_cache(sense_ids, sense_cache)\n",
    "    else:\n",
    "        sense_ids, sense_emb = compute_sense_embedding(charac, cwn_inst, bert_inst)\n",
    "        sense_map = dict(zip(sense_ids, sense_emb))\n",
    "    return sense_map\n"
   ]
  },
  {
   "cell_type": "code",
   "execution_count": null,
   "metadata": {},
   "outputs": [
    {
     "data": {
      "application/vnd.jupyter.widget-view+json": {
       "model_id": "09946207cb714f50a05b7e252064f6f8",
       "version_major": 2,
       "version_minor": 0
      },
      "text/plain": [
       "HBox(children=(IntProgress(value=0, max=3831), HTML(value='')))"
      ]
     },
     "metadata": {},
     "output_type": "display_data"
    },
    {
     "name": "stdout",
     "output_type": "stream",
     "text": [
      "No valid embeddings from examples\n",
      "expected a non-empty list of Tensors\n"
     ]
    }
   ],
   "source": [
    "char_senses = {}\n",
    "for ch in tqdm(cwn_chars):\n",
    "    try:\n",
    "        char_senses[ch] = get_char_sense_vectors(ch, cwn, bert, sense_embed)\n",
    "    except Exception as ex:\n",
    "        print(ex)        "
   ]
  },
  {
   "cell_type": "code",
   "execution_count": 55,
   "metadata": {},
   "outputs": [
    {
     "data": {
      "text/plain": [
       "{'一': {'05224201': tensor([-0.0186,  0.1967, -0.2883,  ...,  0.0495,  0.2572, -1.4066]),\n",
       "  '05224202': tensor([ 0.1864, -0.4059, -0.3544,  ...,  0.7837, -0.1061,  0.0499]),\n",
       "  '06727201': tensor([ 0.4360,  0.1061, -0.6604,  ...,  0.8937,  0.3118, -0.6445]),\n",
       "  '06727301': tensor([ 0.0879,  0.2555, -0.3506,  ...,  0.3521,  0.0166, -0.9185]),\n",
       "  '06727302': tensor([ 0.3703,  0.2827, -0.0248,  ...,  0.0032,  0.1396, -0.5456]),\n",
       "  '06727303': tensor([ 0.3537, -0.2587, -0.5117,  ...,  0.8127,  0.7034, -0.2929]),\n",
       "  '06727304': tensor([-0.0654,  0.3799, -0.3318,  ...,  0.6671,  0.0063,  0.5669]),\n",
       "  '06727305': tensor([ 0.6589, -0.0805, -1.2556,  ...,  1.1982, -0.1686, -0.0408]),\n",
       "  '06727306': tensor([-0.0919,  0.4512, -0.8062,  ...,  0.4372,  0.0636,  0.2234]),\n",
       "  '06727401': tensor([ 0.3337, -0.2030, -0.1241,  ...,  0.1443,  0.0999, -0.0269])}}"
      ]
     },
     "execution_count": 55,
     "metadata": {},
     "output_type": "execute_result"
    }
   ],
   "source": [
    "char_senses"
   ]
  },
  {
   "cell_type": "code",
   "execution_count": null,
   "metadata": {},
   "outputs": [],
   "source": []
  }
 ],
 "metadata": {
  "kernelspec": {
   "display_name": "Python 3",
   "language": "python",
   "name": "python3"
  },
  "language_info": {
   "codemirror_mode": {
    "name": "ipython",
    "version": 3
   },
   "file_extension": ".py",
   "mimetype": "text/x-python",
   "name": "python",
   "nbconvert_exporter": "python",
   "pygments_lexer": "ipython3",
   "version": "3.7.2"
  }
 },
 "nbformat": 4,
 "nbformat_minor": 2
}
