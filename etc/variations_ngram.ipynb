{
 "cells": [
  {
   "cell_type": "markdown",
   "metadata": {},
   "source": [
    "# Qie Variation"
   ]
  },
  {
   "cell_type": "code",
   "execution_count": 1,
   "metadata": {},
   "outputs": [],
   "source": [
    "%load_ext autoreload\n",
    "%autoreload 2\n",
    "%matplotlib inline\n",
    "import sys\n",
    "sys.path.append(\"../\")"
   ]
  },
  {
   "cell_type": "code",
   "execution_count": 4,
   "metadata": {},
   "outputs": [],
   "source": [
    "import pickle\n",
    "import numpy as np\n",
    "import pandas as pd\n",
    "import matplotlib.pyplot as plt\n",
    "import seaborn as sns"
   ]
  },
  {
   "cell_type": "code",
   "execution_count": 9,
   "metadata": {},
   "outputs": [],
   "source": [
    "from MWE2019.utils import tqdm\n",
    "from MWE2019.materials import Materials, NGram4SampleList\n",
    "from MWE2019 import features\n",
    "from MWE2019.utils import get_cache_path, install_data_cache"
   ]
  },
  {
   "cell_type": "code",
   "execution_count": 34,
   "metadata": {},
   "outputs": [
    {
     "name": "stdout",
     "output_type": "stream",
     "text": [
      "Remove NGram frequency < 50: 3588 removed\n",
      "QIE removed: 0\n",
      "Idiom removed: 3588\n",
      "Character count before removal: 12883\n",
      "Character count after removal: 2824\n",
      "Remove character not in ngrams: 10059 removed\n",
      "load CwnNodeVec from cache:  ..\\MWE2019\\..\\data\\cache_cwn_node_vec\\cwn_node_vec_homophily.pkl\n",
      "load variations from  E:\\LangOn\\MWE2019\\data\\cache_ngrams_list\\ngrams_vars_samples.csv\n"
     ]
    }
   ],
   "source": [
    "materials = Materials()"
   ]
  },
  {
   "cell_type": "code",
   "execution_count": 6,
   "metadata": {},
   "outputs": [],
   "source": [
    "ngrams_path = get_cache_path('cache_ngrams_list', 'ngrams_list.csv')\n",
    "pd.DataFrame({'ngram': materials.qies+materials.idioms}).to_csv(ngrams_path)"
   ]
  },
  {
   "cell_type": "code",
   "execution_count": 30,
   "metadata": {},
   "outputs": [
    {
     "name": "stdout",
     "output_type": "stream",
     "text": [
      "Building ngrams list...Done\n",
      "NGram4SampleList cache to  E:\\LangOn\\MWE2019\\data\\cache_ngrams_list\\ngrams_vars_samples.csv\n"
     ]
    }
   ],
   "source": [
    "ng_list = NGram4SampleList()"
   ]
  },
  {
   "cell_type": "code",
   "execution_count": 31,
   "metadata": {},
   "outputs": [
    {
     "data": {
      "text/html": [
       "<div>\n",
       "<style scoped>\n",
       "    .dataframe tbody tr th:only-of-type {\n",
       "        vertical-align: middle;\n",
       "    }\n",
       "\n",
       "    .dataframe tbody tr th {\n",
       "        vertical-align: top;\n",
       "    }\n",
       "\n",
       "    .dataframe thead th {\n",
       "        text-align: right;\n",
       "    }\n",
       "</style>\n",
       "<table border=\"1\" class=\"dataframe\">\n",
       "  <thead>\n",
       "    <tr style=\"text-align: right;\">\n",
       "      <th></th>\n",
       "      <th>sub2.A</th>\n",
       "      <th>del2.A</th>\n",
       "      <th>sub3.A</th>\n",
       "      <th>del3.A</th>\n",
       "      <th>ins.A</th>\n",
       "      <th>sub2.C</th>\n",
       "      <th>del2.C</th>\n",
       "      <th>sub3.C</th>\n",
       "      <th>del3.C</th>\n",
       "      <th>ins.C</th>\n",
       "      <th>sub2.P</th>\n",
       "      <th>del2.P</th>\n",
       "      <th>sub3.P</th>\n",
       "      <th>del3.P</th>\n",
       "      <th>ins.P</th>\n",
       "      <th>var</th>\n",
       "    </tr>\n",
       "    <tr>\n",
       "      <th>ngram</th>\n",
       "      <th></th>\n",
       "      <th></th>\n",
       "      <th></th>\n",
       "      <th></th>\n",
       "      <th></th>\n",
       "      <th></th>\n",
       "      <th></th>\n",
       "      <th></th>\n",
       "      <th></th>\n",
       "      <th></th>\n",
       "      <th></th>\n",
       "      <th></th>\n",
       "      <th></th>\n",
       "      <th></th>\n",
       "      <th></th>\n",
       "      <th></th>\n",
       "    </tr>\n",
       "  </thead>\n",
       "  <tbody>\n",
       "    <tr>\n",
       "      <th>資料來源</th>\n",
       "      <td>71</td>\n",
       "      <td>6</td>\n",
       "      <td>1</td>\n",
       "      <td>1</td>\n",
       "      <td>57</td>\n",
       "      <td>40</td>\n",
       "      <td>4</td>\n",
       "      <td>0</td>\n",
       "      <td>0</td>\n",
       "      <td>2</td>\n",
       "      <td>3</td>\n",
       "      <td>0</td>\n",
       "      <td>0</td>\n",
       "      <td>0</td>\n",
       "      <td>0</td>\n",
       "      <td>174</td>\n",
       "    </tr>\n",
       "    <tr>\n",
       "      <th>綜合報導</th>\n",
       "      <td>0</td>\n",
       "      <td>0</td>\n",
       "      <td>0</td>\n",
       "      <td>0</td>\n",
       "      <td>1736</td>\n",
       "      <td>0</td>\n",
       "      <td>0</td>\n",
       "      <td>0</td>\n",
       "      <td>0</td>\n",
       "      <td>276</td>\n",
       "      <td>0</td>\n",
       "      <td>0</td>\n",
       "      <td>0</td>\n",
       "      <td>0</td>\n",
       "      <td>2</td>\n",
       "      <td>2014</td>\n",
       "    </tr>\n",
       "    <tr>\n",
       "      <th>警方調查</th>\n",
       "      <td>21</td>\n",
       "      <td>54</td>\n",
       "      <td>85</td>\n",
       "      <td>106</td>\n",
       "      <td>117</td>\n",
       "      <td>16</td>\n",
       "      <td>66</td>\n",
       "      <td>140</td>\n",
       "      <td>259</td>\n",
       "      <td>124</td>\n",
       "      <td>0</td>\n",
       "      <td>0</td>\n",
       "      <td>2</td>\n",
       "      <td>1</td>\n",
       "      <td>2</td>\n",
       "      <td>507</td>\n",
       "    </tr>\n",
       "    <tr>\n",
       "      <th>主辦單位</th>\n",
       "      <td>42</td>\n",
       "      <td>0</td>\n",
       "      <td>0</td>\n",
       "      <td>0</td>\n",
       "      <td>3</td>\n",
       "      <td>108</td>\n",
       "      <td>6</td>\n",
       "      <td>0</td>\n",
       "      <td>0</td>\n",
       "      <td>14</td>\n",
       "      <td>1</td>\n",
       "      <td>0</td>\n",
       "      <td>0</td>\n",
       "      <td>0</td>\n",
       "      <td>0</td>\n",
       "      <td>168</td>\n",
       "    </tr>\n",
       "    <tr>\n",
       "      <th>億元台幣</th>\n",
       "      <td>14</td>\n",
       "      <td>556</td>\n",
       "      <td>14</td>\n",
       "      <td>0</td>\n",
       "      <td>450</td>\n",
       "      <td>26</td>\n",
       "      <td>195</td>\n",
       "      <td>11</td>\n",
       "      <td>0</td>\n",
       "      <td>75</td>\n",
       "      <td>2</td>\n",
       "      <td>11</td>\n",
       "      <td>0</td>\n",
       "      <td>0</td>\n",
       "      <td>2</td>\n",
       "      <td>594</td>\n",
       "    </tr>\n",
       "  </tbody>\n",
       "</table>\n",
       "</div>"
      ],
      "text/plain": [
       "       sub2.A  del2.A  sub3.A  del3.A  ins.A  sub2.C  del2.C  sub3.C  del3.C  \\\n",
       "ngram                                                                          \n",
       "資料來源       71       6       1       1     57      40       4       0       0   \n",
       "綜合報導        0       0       0       0   1736       0       0       0       0   \n",
       "警方調查       21      54      85     106    117      16      66     140     259   \n",
       "主辦單位       42       0       0       0      3     108       6       0       0   \n",
       "億元台幣       14     556      14       0    450      26     195      11       0   \n",
       "\n",
       "       ins.C  sub2.P  del2.P  sub3.P  del3.P  ins.P   var  \n",
       "ngram                                                      \n",
       "資料來源       2       3       0       0       0      0   174  \n",
       "綜合報導     276       0       0       0       0      2  2014  \n",
       "警方調查     124       0       0       2       1      2   507  \n",
       "主辦單位      14       1       0       0       0      0   168  \n",
       "億元台幣      75       2      11       0       0      2   594  "
      ]
     },
     "execution_count": 31,
     "metadata": {},
     "output_type": "execute_result"
    }
   ],
   "source": [
    "ng_list.merged_df.head()"
   ]
  },
  {
   "cell_type": "code",
   "execution_count": null,
   "metadata": {},
   "outputs": [],
   "source": [
    "ng_list.merged_df.to_csv()"
   ]
  }
 ],
 "metadata": {
  "kernelspec": {
   "display_name": "Python 3",
   "language": "python",
   "name": "python3"
  },
  "language_info": {
   "codemirror_mode": {
    "name": "ipython",
    "version": 3
   },
   "file_extension": ".py",
   "mimetype": "text/x-python",
   "name": "python",
   "nbconvert_exporter": "python",
   "pygments_lexer": "ipython3",
   "version": "3.7.2"
  }
 },
 "nbformat": 4,
 "nbformat_minor": 2
}
