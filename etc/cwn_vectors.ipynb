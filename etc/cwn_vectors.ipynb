{
 "cells": [
  {
   "cell_type": "markdown",
   "metadata": {},
   "source": [
    "# Node embed for character in word morphology"
   ]
  },
  {
   "cell_type": "code",
   "execution_count": 14,
   "metadata": {},
   "outputs": [
    {
     "name": "stdout",
     "output_type": "stream",
     "text": [
      "The autoreload extension is already loaded. To reload it, use:\n",
      "  %reload_ext autoreload\n"
     ]
    }
   ],
   "source": [
    "%load_ext autoreload\n",
    "%autoreload 2\n",
    "%matplotlib inline\n",
    "import sys\n",
    "sys.path.append(\"../\")"
   ]
  },
  {
   "cell_type": "code",
   "execution_count": 2,
   "metadata": {},
   "outputs": [],
   "source": [
    "import pickle\n",
    "import gzip\n",
    "import json\n",
    "from pathlib import Path"
   ]
  },
  {
   "cell_type": "code",
   "execution_count": 3,
   "metadata": {},
   "outputs": [],
   "source": [
    "from torchtext.vocab import Vectors\n",
    "from matplotlib_venn import venn3"
   ]
  },
  {
   "cell_type": "code",
   "execution_count": 4,
   "metadata": {},
   "outputs": [],
   "source": [
    "from CwnGraph import CwnBase"
   ]
  },
  {
   "cell_type": "code",
   "execution_count": 5,
   "metadata": {},
   "outputs": [],
   "source": [
    "cwn = CwnBase()\n",
    "cwn_lemmas = (x[\"lemma\"] for x in cwn.V.values() if x[\"node_type\"] == \"lemma\")\n",
    "cwn_lemmas = list(filter(lambda x: 0 < len(x) <= 2, cwn_lemmas))"
   ]
  },
  {
   "cell_type": "code",
   "execution_count": 6,
   "metadata": {},
   "outputs": [],
   "source": [
    "with gzip.open(\"../resources/deeplexicon_export_181209005320.json.gz\", \"rb\") as fin:\n",
    "    deeplex = json.load(fin)"
   ]
  },
  {
   "cell_type": "code",
   "execution_count": 7,
   "metadata": {},
   "outputs": [],
   "source": [
    "dl_lemma_iter = (x[\"lu\"] for x in deeplex)\n",
    "dl_lemma = filter(lambda x: isinstance(x, str) and 0 < len(x) <= 2, dl_lemma_iter)\n",
    "dl_lemma = list(set(dl_lemma))\n",
    "dl_lemma.sort(key=lambda x: (len(x), x))"
   ]
  },
  {
   "cell_type": "code",
   "execution_count": 8,
   "metadata": {},
   "outputs": [],
   "source": [
    "zhft = Vectors(name='wiki.zh.vec', cache='../resources/fasttext/')"
   ]
  },
  {
   "cell_type": "code",
   "execution_count": 9,
   "metadata": {},
   "outputs": [],
   "source": [
    "with open(\"../resources/as_wordFreq.pickle\", \"rb\") as fin:\n",
    "    wfreq = pickle.load(fin)"
   ]
  },
  {
   "cell_type": "code",
   "execution_count": 10,
   "metadata": {},
   "outputs": [],
   "source": [
    "OOV_wfreq = [x for x in cwn_lemmas if x not in wfreq]\n",
    "OOV_fasttext = [x for x in cwn_lemmas if x not in zhft.stoi]"
   ]
  },
  {
   "cell_type": "code",
   "execution_count": 11,
   "metadata": {},
   "outputs": [],
   "source": [
    "outdir = Path(\"../data/preproc_embed/\")\n",
    "outdir.mkdir(parents=True, exist_ok=True)\n",
    "with open(outdir / \"oov_wfreq.txt\", \"w\", encoding=\"UTF-8\") as fout:\n",
    "    fout.write(\"\\n\".join(sorted(OOV_wfreq)))\n",
    "with open(outdir / \"oov_fasttext.txt\", \"w\", encoding=\"UTF-8\") as fout:\n",
    "    fout.write(\"\\n\".join(sorted(OOV_fasttext)))"
   ]
  },
  {
   "cell_type": "code",
   "execution_count": 12,
   "metadata": {},
   "outputs": [
    {
     "data": {
      "text/plain": [
       "<matplotlib_venn._common.VennDiagram at 0x1a9cf7fa908>"
      ]
     },
     "execution_count": 12,
     "metadata": {},
     "output_type": "execute_result"
    },
    {
     "data": {
      "image/png": "[encoded data removed]",
      "text/plain": [
       "<Figure size 432x288 with 1 Axes>"
      ]
     },
     "metadata": {},
     "output_type": "display_data"
    }
   ],
   "source": [
    "Abc = len(cwn_lemmas)\n",
    "aBc = len(zhft.stoi)\n",
    "abC = len(wfreq)\n",
    "ABc = sum(1 for x in cwn_lemmas if x in zhft.stoi and x not in wfreq)\n",
    "AbC = sum(1 for x in cwn_lemmas if x not in zhft.stoi and x in wfreq)\n",
    "aBC = sum(1 for x in wfreq if x in zhft.stoi and x not in cwn_lemmas)\n",
    "ABC = sum(1 for x in cwn_lemmas if x in zhft.stoi and x in wfreq)\n",
    "\n",
    "venn3(subsets=(Abc, aBc, ABc, abC, AbC, aBC, ABC), set_labels = ('CWN', 'fasttext-zhwiki', 'AS4'))"
   ]
  },
  {
   "cell_type": "code",
   "execution_count": 13,
   "metadata": {},
   "outputs": [
    {
     "name": "stdout",
     "output_type": "stream",
     "text": [
      "CwnVectors Coverage: 85.32\n"
     ]
    }
   ],
   "source": [
    "print(\"CwnVectors Coverage: %.2f\" % (ABC*100 / Abc,))"
   ]
  },
  {
   "cell_type": "markdown",
   "metadata": {},
   "source": [
    "# Build CwnVectors"
   ]
  },
  {
   "cell_type": "code",
   "execution_count": 16,
   "metadata": {},
   "outputs": [],
   "source": [
    "from MWE2019.cwn_vectors import CwnVectors"
   ]
  },
  {
   "cell_type": "code",
   "execution_count": 60,
   "metadata": {},
   "outputs": [
    {
     "name": "stdout",
     "output_type": "stream",
     "text": [
      "load from cache:  E:\\LangOn\\MWE2019\\data\\cache_cwn_vectors\\cwn_vectors.pkl\n"
     ]
    }
   ],
   "source": [
    "cwn_vec = CwnVectors()\n",
    "if not cwn_vec:\n",
    "    cwn_vec = CwnVectors(cwn_lemmas, zhft, wfreq)"
   ]
  },
  {
   "cell_type": "code",
   "execution_count": 61,
   "metadata": {},
   "outputs": [
    {
     "data": {
      "text/plain": [
       "300"
      ]
     },
     "execution_count": 61,
     "metadata": {},
     "output_type": "execute_result"
    }
   ],
   "source": [
    "cwn_vec.dim"
   ]
  },
  {
   "cell_type": "markdown",
   "metadata": {},
   "source": [
    "## Use gensim KeyedVectors to browse embeddings"
   ]
  },
  {
   "cell_type": "code",
   "execution_count": 62,
   "metadata": {},
   "outputs": [],
   "source": [
    "from gensim.models import KeyedVectors"
   ]
  },
  {
   "cell_type": "code",
   "execution_count": 63,
   "metadata": {},
   "outputs": [],
   "source": [
    "cwn_kv = KeyedVectors(cwn_vec.dim)\n",
    "cwn_kv.add([cwn_vec.itos[i] for i in range(len(cwn_vec.itos))], cwn_vec.vectors)"
   ]
  },
  {
   "cell_type": "code",
   "execution_count": 64,
   "metadata": {},
   "outputs": [
    {
     "data": {
      "text/plain": [
       "[('感覺', 0.9599748253822327),\n",
       " ('緊張', 0.9595120549201965),\n",
       " ('意識', 0.9588016271591187),\n",
       " ('心態', 0.9581484198570251),\n",
       " ('內心', 0.9581273794174194),\n",
       " ('恐懼', 0.9573620557785034),\n",
       " ('態度', 0.9571989178657532),\n",
       " ('憂悶', 0.9569420218467712),\n",
       " ('壓抑', 0.9563689827919006),\n",
       " ('陰沈', 0.9554392695426941)]"
      ]
     },
     "execution_count": 64,
     "metadata": {},
     "output_type": "execute_result"
    }
   ],
   "source": [
    "cwn_kv.most_similar(\"情緒\")"
   ]
  },
  {
   "cell_type": "code",
   "execution_count": 65,
   "metadata": {},
   "outputs": [
    {
     "data": {
      "text/plain": [
       "[('紐約', 0.9545028209686279),\n",
       " ('費城', 0.9343597888946533),\n",
       " ('賓州', 0.9328980445861816),\n",
       " ('加州', 0.9322183132171631),\n",
       " ('雪梨', 0.9272298216819763),\n",
       " ('頓', 0.9252379536628723),\n",
       " ('紐', 0.9215793609619141),\n",
       " ('奧', 0.92048579454422),\n",
       " ('諾', 0.9175513982772827),\n",
       " ('納', 0.9170501232147217)]"
      ]
     },
     "execution_count": 65,
     "metadata": {},
     "output_type": "execute_result"
    }
   ],
   "source": [
    "# 英國(a) - 倫敦(b) vs. 美國(x) - ??(y)\n",
    "# a is to b as x is to y\n",
    "# infer y = x - a + b\n",
    "cwn_kv.most_similar([\"美國\", \"倫敦\"], [\"英國\"])"
   ]
  },
  {
   "cell_type": "code",
   "execution_count": 66,
   "metadata": {},
   "outputs": [
    {
     "data": {
      "text/plain": [
       "[('台灣', 0.9392246007919312),\n",
       " ('台北', 0.9351192712783813),\n",
       " ('臺北', 0.9322136640548706),\n",
       " ('宜蘭', 0.9305909276008606),\n",
       " ('台南', 0.930513858795166),\n",
       " ('高雄', 0.929668664932251),\n",
       " ('花蓮', 0.9285742044448853),\n",
       " ('臺南', 0.9285663962364197),\n",
       " ('台中', 0.923947811126709),\n",
       " ('新竹', 0.9239029884338379)]"
      ]
     },
     "execution_count": 66,
     "metadata": {},
     "output_type": "execute_result"
    }
   ],
   "source": [
    "# 英國(a) - 倫敦(b) vs. 臺灣(x) - ??(y)\n",
    "cwn_kv.most_similar([\"臺灣\", \"倫敦\"], [\"英國\"])"
   ]
  },
  {
   "cell_type": "code",
   "execution_count": 67,
   "metadata": {},
   "outputs": [
    {
     "data": {
      "text/plain": [
       "[('明白', 0.9345259666442871),\n",
       " ('想到', 0.9332239627838135),\n",
       " ('真的', 0.926767110824585),\n",
       " ('怎的', 0.9248987436294556),\n",
       " ('看到', 0.9240320920944214),\n",
       " ('要是', 0.9240231513977051),\n",
       " ('可是', 0.9227776527404785),\n",
       " ('在乎', 0.9224362969398499),\n",
       " ('呢', 0.9222633242607117),\n",
       " ('怎地', 0.9219707250595093)]"
      ]
     },
     "execution_count": 67,
     "metadata": {},
     "output_type": "execute_result"
    }
   ],
   "source": [
    "# 記憶(a) - 忘記(b) vs. 知道(x) - ??(y)\n",
    "cwn_kv.most_similar([\"知道\", \"忘記\"], [\"記憶\"])"
   ]
  },
  {
   "cell_type": "code",
   "execution_count": null,
   "metadata": {},
   "outputs": [],
   "source": []
  }
 ],
 "metadata": {
  "kernelspec": {
   "display_name": "Python 3",
   "language": "python",
   "name": "python3"
  },
  "language_info": {
   "codemirror_mode": {
    "name": "ipython",
    "version": 3
   },
   "file_extension": ".py",
   "mimetype": "text/x-python",
   "name": "python",
   "nbconvert_exporter": "python",
   "pygments_lexer": "ipython3",
   "version": "3.7.2"
  }
 },
 "nbformat": 4,
 "nbformat_minor": 2
}
